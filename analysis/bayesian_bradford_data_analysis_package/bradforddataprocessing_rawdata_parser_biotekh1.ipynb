{
 "cells": [
  {
   "cell_type": "markdown",
   "metadata": {},
   "source": [
    "# Documentation\n",
    "<br>\n",
    "This notebook is the first step in a workflow that deals with Bradford Protein Quantification 96x well plate reader data:\n",
    "\n",
    "1. Exploratory data analysis.\n",
    "2. Cleaning the data to remove absorbance values that are outside the linear range of the instrument\n",
    "3. Parsing and exporting both the calibrant and sample data into the processed_data_files directory preparatory to downstream analysis\n",
    "\n",
    "Alex Perkins 16th November 2021\n",
    "a.j.p.perkins@sms.ed.ac.uk"
   ]
  },
  {
   "cell_type": "markdown",
   "metadata": {},
   "source": [
    "### Environment Preparation ---------------------------------------------------------------"
   ]
  },
  {
   "cell_type": "markdown",
   "metadata": {},
   "source": [
    "### Import Packages"
   ]
  },
  {
   "cell_type": "code",
   "execution_count": 1,
   "metadata": {
    "tags": []
   },
   "outputs": [
    {
     "name": "stderr",
     "output_type": "stream",
     "text": [
      "WARNING (theano.tensor.blas): Using NumPy C-API based implementation for BLAS functions.\n"
     ]
    },
    {
     "name": "stdout",
     "output_type": "stream",
     "text": [
      "Running on PyMC3 v3.11.5\n"
     ]
    }
   ],
   "source": [
    "import pandas as pd\n",
    "import numpy as np\n",
    "#import seaborn as sns\n",
    "import matplotlib.pyplot as plt\n",
    "import matplotlib.lines as mlines\n",
    "import pymc3 as pm\n",
    "from pymc3 import HalfCauchy, Model, Normal, glm, plot_posterior_predictive_glm, sample\n",
    "\n",
    "print(f\"Running on PyMC3 v{pm.__version__}\")\n",
    "\n",
    "import arviz as az\n",
    "from scipy.stats import norm\n",
    "\n",
    "# Import curve fitting package from scipy\n",
    "from sklearn.linear_model import LinearRegression\n",
    "\n",
    "# import os\n",
    "import os, sys, shutil\n",
    "\n",
    "from experiment_specific_config import *\n",
    "\n",
    "%matplotlib inline"
   ]
  },
  {
   "cell_type": "code",
   "execution_count": null,
   "metadata": {},
   "outputs": [],
   "source": []
  },
  {
   "cell_type": "code",
   "execution_count": 2,
   "metadata": {},
   "outputs": [
    {
     "data": {
      "text/plain": [
       "3"
      ]
     },
     "execution_count": 2,
     "metadata": {},
     "output_type": "execute_result"
    }
   ],
   "source": [
    "num_experiment_replicates = len(dilutions_dict[list(dilutions_dict.keys())[0]])\n",
    "num_calibrant_replicates = len(calibrants_dict[list(calibrants_dict.keys())[0]])\n",
    "num_experiment_replicates"
   ]
  },
  {
   "cell_type": "markdown",
   "metadata": {},
   "source": [
    "### This cell just deals with reading the data file in the directory"
   ]
  },
  {
   "cell_type": "code",
   "execution_count": 3,
   "metadata": {
    "tags": []
   },
   "outputs": [
    {
     "name": "stdout",
     "output_type": "stream",
     "text": [
      "['134709_221009_OT2_BRADFORD.csv']\n"
     ]
    },
    {
     "name": "stderr",
     "output_type": "stream",
     "text": [
      "/tmp/ipykernel_633/1813348041.py:44: FutureWarning: The error_bad_lines argument has been deprecated and will be removed in a future version. Use on_bad_lines in the future.\n",
      "\n",
      "\n",
      "  raw_data = pd.read_csv(csv_list[0], header=None, error_bad_lines=False)\n"
     ]
    }
   ],
   "source": [
    "##################################################################\n",
    "\n",
    "move_file = False\n",
    "\n",
    "##################################################################\n",
    "# define error handler\n",
    "class UnAcceptedValueError(Exception):   \n",
    "    def __init__(self, data):    \n",
    "        self.data = data\n",
    "    def __str__(self):\n",
    "        return repr(self.data)\n",
    "\n",
    "####################################################################\n",
    "# gets all items in directory\n",
    "items = os.listdir(\".\")\n",
    "\n",
    "# lists all .csv\n",
    "csv_list = []\n",
    "\n",
    "try:\n",
    "    for names in items:\n",
    "        if names.endswith(\".CSV\") | names.endswith(\".csv\"):\n",
    "            csv_list.append(names)\n",
    "\n",
    "except:\n",
    "    print(\"Couldn't find any csv files\")\n",
    "\n",
    "try:\n",
    "    if(len(csv_list) > 1):\n",
    "        raise UnAcceptedValueError(\"More than 1x .CSV file in the directory\");\n",
    "except UnAcceptedValueError as e:\n",
    "    print (\"Received error:\", e.data)\n",
    "    # kills the process\n",
    "    quit()\n",
    "##########################################################################################\n",
    "print(csv_list)\n",
    "\n",
    "\n",
    "\n",
    "experiment_name = csv_list[0]\n",
    "\n",
    "\n",
    "#import dataset as dataframe\n",
    "raw_data = pd.read_csv(csv_list[0], header=None, error_bad_lines=False)"
   ]
  },
  {
   "cell_type": "code",
   "execution_count": 4,
   "metadata": {},
   "outputs": [],
   "source": [
    "bradford_index_list =[]\n",
    "\n",
    "# iterate over the rows\n",
    "for i,row in enumerate(raw_data.iloc[:,0]):\n",
    "    \n",
    "    #if string\n",
    "    if isinstance(row, str):\n",
    "        \n",
    "        #if first 7 characters spell bradford\n",
    "        if row[:8] == \"Bradford\":\n",
    "            # append the row index to the list\n",
    "            bradford_index_list.append(i)"
   ]
  },
  {
   "cell_type": "code",
   "execution_count": null,
   "metadata": {},
   "outputs": [],
   "source": []
  },
  {
   "cell_type": "code",
   "execution_count": 5,
   "metadata": {},
   "outputs": [
    {
     "data": {
      "text/plain": [
       "[0, 11, 22, 33]"
      ]
     },
     "execution_count": 5,
     "metadata": {},
     "output_type": "execute_result"
    }
   ],
   "source": [
    "bradford_index_list"
   ]
  },
  {
   "cell_type": "code",
   "execution_count": 6,
   "metadata": {},
   "outputs": [],
   "source": [
    "parsed_data = pd.DataFrame(columns=[\"Well\", \"Absorbance\", \"Measurement\"])\n",
    "\n",
    "for first_index in bradford_index_list:\n",
    "    \n",
    "    last_index = first_index + 10\n",
    "    \n",
    "    individual_slice = raw_data.iloc[first_index:last_index, :].reset_index(drop=True)\n",
    "    \n",
    "\n",
    "    for i, row in individual_slice.iterrows():\n",
    "        \n",
    "        \n",
    "        if i >= 2 and i < 10:\n",
    "            \n",
    "            selected_row = individual_slice.iloc[i, :]\n",
    "            \n",
    "            plate_letter_row = selected_row[0]\n",
    "            \n",
    "            data = selected_row[1:-1].reset_index()\n",
    "            \n",
    "            data[\"index\"] = plate_letter_row + data[\"index\"].astype(str)\n",
    "            data[\"measurement\"] = selected_row.iloc[-1]\n",
    "            data = data.set_axis([\"Well\", \"Absorbance\", \"Measurement\"], axis=1, copy=False)\n",
    "            \n",
    "            parsed_data = pd.concat([parsed_data, data], ignore_index=True)\n",
    "  "
   ]
  },
  {
   "cell_type": "code",
   "execution_count": 7,
   "metadata": {},
   "outputs": [
    {
     "data": {
      "text/html": [
       "<div>\n",
       "<style scoped>\n",
       "    .dataframe tbody tr th:only-of-type {\n",
       "        vertical-align: middle;\n",
       "    }\n",
       "\n",
       "    .dataframe tbody tr th {\n",
       "        vertical-align: top;\n",
       "    }\n",
       "\n",
       "    .dataframe thead th {\n",
       "        text-align: right;\n",
       "    }\n",
       "</style>\n",
       "<table border=\"1\" class=\"dataframe\">\n",
       "  <thead>\n",
       "    <tr style=\"text-align: right;\">\n",
       "      <th></th>\n",
       "      <th>Well</th>\n",
       "      <th>Absorbance</th>\n",
       "      <th>Measurement</th>\n",
       "    </tr>\n",
       "  </thead>\n",
       "  <tbody>\n",
       "    <tr>\n",
       "      <th>0</th>\n",
       "      <td>A1</td>\n",
       "      <td>0.193</td>\n",
       "      <td>Bradford:977 [Test]</td>\n",
       "    </tr>\n",
       "    <tr>\n",
       "      <th>1</th>\n",
       "      <td>A2</td>\n",
       "      <td>0.195</td>\n",
       "      <td>Bradford:977 [Test]</td>\n",
       "    </tr>\n",
       "    <tr>\n",
       "      <th>2</th>\n",
       "      <td>A3</td>\n",
       "      <td>0.204</td>\n",
       "      <td>Bradford:977 [Test]</td>\n",
       "    </tr>\n",
       "    <tr>\n",
       "      <th>3</th>\n",
       "      <td>A4</td>\n",
       "      <td>NaN</td>\n",
       "      <td>Bradford:977 [Test]</td>\n",
       "    </tr>\n",
       "    <tr>\n",
       "      <th>4</th>\n",
       "      <td>A5</td>\n",
       "      <td>NaN</td>\n",
       "      <td>Bradford:977 [Test]</td>\n",
       "    </tr>\n",
       "    <tr>\n",
       "      <th>...</th>\n",
       "      <td>...</td>\n",
       "      <td>...</td>\n",
       "      <td>...</td>\n",
       "    </tr>\n",
       "    <tr>\n",
       "      <th>379</th>\n",
       "      <td>H8</td>\n",
       "      <td>0.593</td>\n",
       "      <td>Bradford:595</td>\n",
       "    </tr>\n",
       "    <tr>\n",
       "      <th>380</th>\n",
       "      <td>H9</td>\n",
       "      <td>0.598</td>\n",
       "      <td>Bradford:595</td>\n",
       "    </tr>\n",
       "    <tr>\n",
       "      <th>381</th>\n",
       "      <td>H10</td>\n",
       "      <td>0.599</td>\n",
       "      <td>Bradford:595</td>\n",
       "    </tr>\n",
       "    <tr>\n",
       "      <th>382</th>\n",
       "      <td>H11</td>\n",
       "      <td>0.644</td>\n",
       "      <td>Bradford:595</td>\n",
       "    </tr>\n",
       "    <tr>\n",
       "      <th>383</th>\n",
       "      <td>H12</td>\n",
       "      <td>0.64</td>\n",
       "      <td>Bradford:595</td>\n",
       "    </tr>\n",
       "  </tbody>\n",
       "</table>\n",
       "<p>384 rows × 3 columns</p>\n",
       "</div>"
      ],
      "text/plain": [
       "    Well Absorbance          Measurement\n",
       "0     A1      0.193  Bradford:977 [Test]\n",
       "1     A2      0.195  Bradford:977 [Test]\n",
       "2     A3      0.204  Bradford:977 [Test]\n",
       "3     A4        NaN  Bradford:977 [Test]\n",
       "4     A5        NaN  Bradford:977 [Test]\n",
       "..   ...        ...                  ...\n",
       "379   H8      0.593         Bradford:595\n",
       "380   H9      0.598         Bradford:595\n",
       "381  H10      0.599         Bradford:595\n",
       "382  H11      0.644         Bradford:595\n",
       "383  H12       0.64         Bradford:595\n",
       "\n",
       "[384 rows x 3 columns]"
      ]
     },
     "execution_count": 7,
     "metadata": {},
     "output_type": "execute_result"
    }
   ],
   "source": [
    "parsed_data"
   ]
  },
  {
   "cell_type": "code",
   "execution_count": 8,
   "metadata": {},
   "outputs": [
    {
     "name": "stdout",
     "output_type": "stream",
     "text": [
      "/src\n"
     ]
    }
   ],
   "source": [
    "          \n",
    "#######################################################################\n",
    "\n",
    "print(os.getcwd())\n",
    "path = \"/src/processed_data_files/\"\n",
    "# make directory for sticking the output in\n",
    "if os.path.isdir(path) == False:\n",
    "    os.mkdir(path, mode=0o777)\n",
    "    \n",
    "    \n",
    "# now that the dataset has been read in, move it into the processed_data_files file for neatness.\n",
    "if 1 == move_file:\n",
    "    shutil.move(csv_list[0], path)\n",
    "\n",
    "# navigate into the directory for future processed_data_files storage\n",
    "os.chdir(path)\n",
    "\n",
    "\n",
    "parsed_data.to_csv(\"unfiltered_parsed_data.csv\", index=False)"
   ]
  },
  {
   "cell_type": "code",
   "execution_count": 9,
   "metadata": {
    "tags": []
   },
   "outputs": [
    {
     "name": "stdout",
     "output_type": "stream",
     "text": [
      "/src/processed_data_files\n"
     ]
    }
   ],
   "source": [
    "#######################################################################\n",
    "\n",
    "print(os.getcwd())\n",
    "path = \"/src/output/\"\n",
    "# make directory for sticking the output in\n",
    "if os.path.isdir(path) == False:\n",
    "    os.mkdir(path, mode=0o777)\n",
    "    \n",
    "    \n",
    "# now that the dataset has been read in, move it into the output file for neatness.\n",
    "if 1 == move_file:\n",
    "    shutil.move(csv_list[0], path)\n",
    "\n",
    "# navigate into the directory for future plot storage\n",
    "os.chdir(path)"
   ]
  },
  {
   "cell_type": "markdown",
   "metadata": {},
   "source": [
    "### End of Enviroment Setup ---------------------------------------------------------------------------"
   ]
  },
  {
   "cell_type": "markdown",
   "metadata": {},
   "source": [
    "# Looking at the raw calibrant data"
   ]
  },
  {
   "cell_type": "markdown",
   "metadata": {},
   "source": [
    "## Step 1: Looking at the raw values"
   ]
  },
  {
   "cell_type": "code",
   "execution_count": 10,
   "metadata": {
    "scrolled": true
   },
   "outputs": [
    {
     "name": "stderr",
     "output_type": "stream",
     "text": [
      "/tmp/ipykernel_633/2618985242.py:15: SettingWithCopyWarning: \n",
      "A value is trying to be set on a copy of a slice from a DataFrame.\n",
      "Try using .loc[row_indexer,col_indexer] = value instead\n",
      "\n",
      "See the caveats in the documentation: https://pandas.pydata.org/pandas-docs/stable/user_guide/indexing.html#returning-a-view-versus-a-copy\n",
      "  calibrant_df.loc[:, \"Concentration\"] = conc_list\n"
     ]
    }
   ],
   "source": [
    "# real concs in wells. Stocks in ug/ml diluted by 20x\n",
    "calibrant_range = list(calibrants_dict.keys())\n",
    "\n",
    "\n",
    "calibrant_well_list = []\n",
    "conc_list = []\n",
    "\n",
    "for conc, wells in calibrants_dict.items():\n",
    "    calibrant_well_list.extend(wells)\n",
    "    conc_list.extend([conc]*num_calibrant_replicates)\n",
    "\n",
    "calibrant_df = parsed_data[parsed_data[\"Well\"].isin(calibrant_well_list) & parsed_data[\"Measurement\"].isin([\"Bradford:595\"])]\n",
    "\n",
    "\n",
    "calibrant_df.loc[:, \"Concentration\"] = conc_list\n",
    "calibrant_df = calibrant_df.reset_index(drop=True)"
   ]
  },
  {
   "cell_type": "code",
   "execution_count": 11,
   "metadata": {},
   "outputs": [
    {
     "name": "stdout",
     "output_type": "stream",
     "text": [
      "/src/output\n"
     ]
    }
   ],
   "source": [
    "#######################################################################\n",
    "\n",
    "print(os.getcwd())\n",
    "path = \"/src/processed_data_files/\"\n",
    "# make directory for sticking the output in\n",
    "if os.path.isdir(path) == False:\n",
    "    os.mkdir(path, mode=0o777)\n",
    "    \n",
    "\n",
    "# navigate into the directory for future processed_data_files storage\n",
    "os.chdir(path)\n",
    "\n",
    "calibrant_df.to_csv(\"parsed_calibrant_data.csv\", index=False)"
   ]
  },
  {
   "cell_type": "code",
   "execution_count": 12,
   "metadata": {},
   "outputs": [],
   "source": [
    "replicate_wise = pd.DataFrame()\n",
    "\n",
    "for conc in calibrant_df[\"Concentration\"].unique():\n",
    "    \n",
    "    df_s = calibrant_df[calibrant_df[\"Concentration\"] == conc]\n",
    "    abs_ = df_s[\"Absorbance\"]\n",
    "    abs_.index = [\"Rep1\", \"Rep2\", \"Rep3\", \"Rep4\", \"Rep5\"]\n",
    "    replicate_wise = pd.concat([replicate_wise, abs_],axis =1)\n",
    "\n",
    "\n",
    "replicate_wise = replicate_wise.T\n",
    "replicate_wise[\"Concentration\"] = calibrant_range\n",
    "\n",
    "replicate_wise = replicate_wise.reset_index(drop=True)\n",
    "calibrant_df_reps = replicate_wise"
   ]
  },
  {
   "cell_type": "markdown",
   "metadata": {},
   "source": [
    "## Step 2: Reorganising Calibrant Data"
   ]
  },
  {
   "cell_type": "markdown",
   "metadata": {},
   "source": [
    "## Step 3: Filter the calibrants and only keep those within the linear range  (0.75 - 0.45)"
   ]
  },
  {
   "cell_type": "markdown",
   "metadata": {},
   "source": [
    "## Step: 4 Defining the absorbance of each concentration as a gaussian.\n",
    "\n",
    "This allows us to store the mean concentration and it's error as a function and calculate the probabilities on demand.\n",
    "\n",
    "Lets assume that the technical error of the absorbance measurements are normally distributed\n",
    "\n",
    "1. We calculate the mean and the standard deviation for each absorbance triplicate.\n",
    "2. We define a gaussian sampling function so we can easily sample and return a granular array."
   ]
  },
  {
   "cell_type": "code",
   "execution_count": 13,
   "metadata": {},
   "outputs": [
    {
     "name": "stdout",
     "output_type": "stream",
     "text": [
      "    Rep1   Rep2   Rep3   Rep4   Rep5 Concentration    Mean         σ\n",
      "0  0.459  0.446  0.447  0.466  0.456             0  0.4548  0.007234\n",
      "1  0.473  0.468  0.475  0.486  0.484            50  0.4772  0.003606\n",
      "2  0.511  0.506  0.506  0.522  0.514            75  0.5118  0.002887\n",
      "3  0.521  0.514  0.508  0.534   0.53           100  0.5214  0.006506\n",
      "4  0.536  0.529  0.515  0.531  0.535           125  0.5292  0.010693\n",
      "5  0.553  0.556   0.56  0.577  0.561           150  0.5614  0.003512\n",
      "6  0.568  0.565  0.564  0.576  0.578           175  0.5702  0.002082\n",
      "7  0.593  0.598  0.599  0.644   0.64           200  0.6148  0.003215\n"
     ]
    }
   ],
   "source": [
    "\n",
    "# calculate the mean of each triplicate\n",
    "calibrant_df_reps[\"Mean\"] = calibrant_df_reps[[\"Rep1\", \"Rep2\", \"Rep3\", \"Rep4\", \"Rep5\"]].mean(axis=1)\n",
    "# calculate the variance of each triplicate\n",
    "calibrant_df_reps[\"σ\"] = calibrant_df_reps[[\"Rep1\", \"Rep2\", \"Rep3\", \"Rep4\", \"Rep5\"]].iloc[:,:3].std(axis=1)\n",
    "\n",
    "print(calibrant_df_reps)\n",
    "\n",
    "calibrants_df_avg = calibrant_df_reps[[\"Mean\", \"σ\"]]\n",
    "\n",
    "\n",
    "def sample_gaussian(mu, sigma):\n",
    "    \n",
    "    # define the x range: mean - 4*sigma and mean + 4*sigma. increments = mean/1000\n",
    "    x = np.arange((mu-(4*sigma)),(mu+(4*sigma)), mu/1000)\n",
    "    \n",
    "    # use the norm.pdf (probability density function) to sample and return the array.\n",
    "    return norm.pdf(x, mu, sigma)\n",
    "\n",
    "# do it for each calibrant. Not currently stored.\n",
    "for idx, row in calibrants_df_avg.iterrows():\n",
    "    sample_gaussian(calibrant_df_reps.loc[idx][\"Mean\"], calibrant_df_reps.loc[idx][\"σ\"])\n"
   ]
  },
  {
   "cell_type": "markdown",
   "metadata": {},
   "source": [
    "Having got our function, lets plot all the gaussians together and have a wee look."
   ]
  },
  {
   "cell_type": "markdown",
   "metadata": {},
   "source": [
    "# Sample Data"
   ]
  },
  {
   "cell_type": "markdown",
   "metadata": {},
   "source": [
    "# Step 1: Looking at the raw sample data"
   ]
  },
  {
   "cell_type": "code",
   "execution_count": 14,
   "metadata": {},
   "outputs": [
    {
     "name": "stdout",
     "output_type": "stream",
     "text": [
      "['20', '40', '60']\n",
      "OPP\n"
     ]
    },
    {
     "name": "stderr",
     "output_type": "stream",
     "text": [
      "/tmp/ipykernel_633/2595912805.py:23: SettingWithCopyWarning: \n",
      "A value is trying to be set on a copy of a slice from a DataFrame.\n",
      "Try using .loc[row_indexer,col_indexer] = value instead\n",
      "\n",
      "See the caveats in the documentation: https://pandas.pydata.org/pandas-docs/stable/user_guide/indexing.html#returning-a-view-versus-a-copy\n",
      "  dilutions_df.loc[:, \"DilutionX\"] = dilutions_list\n",
      "/tmp/ipykernel_633/2595912805.py:24: SettingWithCopyWarning: \n",
      "A value is trying to be set on a copy of a slice from a DataFrame.\n",
      "Try using .loc[row_indexer,col_indexer] = value instead\n",
      "\n",
      "See the caveats in the documentation: https://pandas.pydata.org/pandas-docs/stable/user_guide/indexing.html#returning-a-view-versus-a-copy\n",
      "  dilutions_df.loc[:, \"ProteinMix\"] = protein_name\n"
     ]
    },
    {
     "data": {
      "text/html": [
       "<div>\n",
       "<style scoped>\n",
       "    .dataframe tbody tr th:only-of-type {\n",
       "        vertical-align: middle;\n",
       "    }\n",
       "\n",
       "    .dataframe tbody tr th {\n",
       "        vertical-align: top;\n",
       "    }\n",
       "\n",
       "    .dataframe thead th {\n",
       "        text-align: right;\n",
       "    }\n",
       "</style>\n",
       "<table border=\"1\" class=\"dataframe\">\n",
       "  <thead>\n",
       "    <tr style=\"text-align: right;\">\n",
       "      <th></th>\n",
       "      <th>Well</th>\n",
       "      <th>Absorbance</th>\n",
       "      <th>Measurement</th>\n",
       "      <th>DilutionX</th>\n",
       "      <th>ProteinMix</th>\n",
       "    </tr>\n",
       "  </thead>\n",
       "  <tbody>\n",
       "    <tr>\n",
       "      <th>0</th>\n",
       "      <td>A1</td>\n",
       "      <td>0.426</td>\n",
       "      <td>Bradford:595</td>\n",
       "      <td>20</td>\n",
       "      <td>OPP</td>\n",
       "    </tr>\n",
       "    <tr>\n",
       "      <th>1</th>\n",
       "      <td>A2</td>\n",
       "      <td>0.435</td>\n",
       "      <td>Bradford:595</td>\n",
       "      <td>20</td>\n",
       "      <td>OPP</td>\n",
       "    </tr>\n",
       "    <tr>\n",
       "      <th>2</th>\n",
       "      <td>A3</td>\n",
       "      <td>0.447</td>\n",
       "      <td>Bradford:595</td>\n",
       "      <td>20</td>\n",
       "      <td>OPP</td>\n",
       "    </tr>\n",
       "    <tr>\n",
       "      <th>3</th>\n",
       "      <td>B1</td>\n",
       "      <td>0.447</td>\n",
       "      <td>Bradford:595</td>\n",
       "      <td>40</td>\n",
       "      <td>OPP</td>\n",
       "    </tr>\n",
       "    <tr>\n",
       "      <th>4</th>\n",
       "      <td>B2</td>\n",
       "      <td>0.453</td>\n",
       "      <td>Bradford:595</td>\n",
       "      <td>40</td>\n",
       "      <td>OPP</td>\n",
       "    </tr>\n",
       "    <tr>\n",
       "      <th>5</th>\n",
       "      <td>B3</td>\n",
       "      <td>0.442</td>\n",
       "      <td>Bradford:595</td>\n",
       "      <td>40</td>\n",
       "      <td>OPP</td>\n",
       "    </tr>\n",
       "    <tr>\n",
       "      <th>6</th>\n",
       "      <td>C1</td>\n",
       "      <td>0.45</td>\n",
       "      <td>Bradford:595</td>\n",
       "      <td>60</td>\n",
       "      <td>OPP</td>\n",
       "    </tr>\n",
       "    <tr>\n",
       "      <th>7</th>\n",
       "      <td>C2</td>\n",
       "      <td>0.459</td>\n",
       "      <td>Bradford:595</td>\n",
       "      <td>60</td>\n",
       "      <td>OPP</td>\n",
       "    </tr>\n",
       "    <tr>\n",
       "      <th>8</th>\n",
       "      <td>C3</td>\n",
       "      <td>0.452</td>\n",
       "      <td>Bradford:595</td>\n",
       "      <td>60</td>\n",
       "      <td>OPP</td>\n",
       "    </tr>\n",
       "  </tbody>\n",
       "</table>\n",
       "</div>"
      ],
      "text/plain": [
       "  Well Absorbance   Measurement DilutionX ProteinMix\n",
       "0   A1      0.426  Bradford:595        20        OPP\n",
       "1   A2      0.435  Bradford:595        20        OPP\n",
       "2   A3      0.447  Bradford:595        20        OPP\n",
       "3   B1      0.447  Bradford:595        40        OPP\n",
       "4   B2      0.453  Bradford:595        40        OPP\n",
       "5   B3      0.442  Bradford:595        40        OPP\n",
       "6   C1       0.45  Bradford:595        60        OPP\n",
       "7   C2      0.459  Bradford:595        60        OPP\n",
       "8   C3      0.452  Bradford:595        60        OPP"
      ]
     },
     "execution_count": 14,
     "metadata": {},
     "output_type": "execute_result"
    }
   ],
   "source": [
    "# real concs in wells. Stocks in ug/ml diluted by 20x\n",
    "dilutions_range = list(dilutions_dict[list(dilutions_dict.keys())[0]].keys())\n",
    "print(dilutions_range)\n",
    "\n",
    "# extract nested dict for first protein mix\n",
    "\n",
    "for i, name in enumerate(list(dilutions_dict.keys())):\n",
    "    \n",
    "    protein_mix = dilutions_dict[list(dilutions_dict.keys())[i]]\n",
    "    protein_name = list(dilutions_dict.keys())[i]\n",
    "    print(name)\n",
    "\n",
    "    dilutions_well_list = []\n",
    "    dilutions_list = []\n",
    "\n",
    "    for dilution, wells in protein_mix.items():\n",
    "        dilutions_well_list.extend(wells)\n",
    "        dilutions_list.extend([dilution]*num_experiment_replicates)\n",
    "\n",
    "    dilutions_df = parsed_data[parsed_data[\"Well\"].isin(dilutions_well_list) & parsed_data[\"Measurement\"].isin([\"Bradford:595\"])]\n",
    "\n",
    "\n",
    "    dilutions_df.loc[:, \"DilutionX\"] = dilutions_list\n",
    "    dilutions_df.loc[:, \"ProteinMix\"] = protein_name\n",
    "\n",
    "    dilutions_df = dilutions_df.reset_index(drop=True)\n",
    "dilutions_df"
   ]
  },
  {
   "cell_type": "code",
   "execution_count": 15,
   "metadata": {},
   "outputs": [
    {
     "name": "stdout",
     "output_type": "stream",
     "text": [
      "/src/processed_data_files\n"
     ]
    }
   ],
   "source": [
    "#######################################################################\n",
    "\n",
    "print(os.getcwd())\n",
    "path = \"/src/processed_data_files/\"\n",
    "# make directory for sticking the output in\n",
    "if os.path.isdir(path) == False:\n",
    "    os.mkdir(path, mode=0o777)\n",
    "    \n",
    "\n",
    "# navigate into the directory for future processed_data_files storage\n",
    "os.chdir(path)\n",
    "\n",
    "dilutions_df.to_csv(\"tidy_sample_data.csv\", index=False)"
   ]
  },
  {
   "cell_type": "code",
   "execution_count": 16,
   "metadata": {},
   "outputs": [
    {
     "name": "stdout",
     "output_type": "stream",
     "text": [
      "             Rep1   Rep2   Rep3\n",
      "Absorbance  0.426  0.435  0.447\n",
      "Absorbance  0.447  0.453  0.442\n",
      "Absorbance   0.45  0.459  0.452\n",
      "['20', '40', '60']\n"
     ]
    }
   ],
   "source": [
    "replicate_wise = pd.DataFrame()\n",
    "\n",
    "for conc in dilutions_df[\"DilutionX\"].unique():\n",
    "    \n",
    "    df_s = dilutions_df[dilutions_df[\"DilutionX\"] == conc]\n",
    "    abs_ = df_s[\"Absorbance\"]\n",
    "    abs_.index = [\"Rep1\", \"Rep2\", \"Rep3\"]\n",
    "    replicate_wise = pd.concat([replicate_wise, abs_],axis =1)\n",
    "\n",
    "replicate_wise = replicate_wise.T\n",
    "print(replicate_wise)\n",
    "print(dilutions_range)\n",
    "replicate_wise[\"DilutionX\"] = dilutions_range\n",
    "\n",
    "replicate_wise = replicate_wise.reset_index(drop=True)\n",
    "dilutions_df_reps = replicate_wise"
   ]
  },
  {
   "cell_type": "code",
   "execution_count": 17,
   "metadata": {},
   "outputs": [
    {
     "data": {
      "text/html": [
       "<div>\n",
       "<style scoped>\n",
       "    .dataframe tbody tr th:only-of-type {\n",
       "        vertical-align: middle;\n",
       "    }\n",
       "\n",
       "    .dataframe tbody tr th {\n",
       "        vertical-align: top;\n",
       "    }\n",
       "\n",
       "    .dataframe thead th {\n",
       "        text-align: right;\n",
       "    }\n",
       "</style>\n",
       "<table border=\"1\" class=\"dataframe\">\n",
       "  <thead>\n",
       "    <tr style=\"text-align: right;\">\n",
       "      <th></th>\n",
       "      <th>Rep1</th>\n",
       "      <th>Rep2</th>\n",
       "      <th>Rep3</th>\n",
       "      <th>DilutionX</th>\n",
       "    </tr>\n",
       "  </thead>\n",
       "  <tbody>\n",
       "    <tr>\n",
       "      <th>0</th>\n",
       "      <td>0.426</td>\n",
       "      <td>0.435</td>\n",
       "      <td>0.447</td>\n",
       "      <td>20</td>\n",
       "    </tr>\n",
       "    <tr>\n",
       "      <th>1</th>\n",
       "      <td>0.447</td>\n",
       "      <td>0.453</td>\n",
       "      <td>0.442</td>\n",
       "      <td>40</td>\n",
       "    </tr>\n",
       "    <tr>\n",
       "      <th>2</th>\n",
       "      <td>0.45</td>\n",
       "      <td>0.459</td>\n",
       "      <td>0.452</td>\n",
       "      <td>60</td>\n",
       "    </tr>\n",
       "  </tbody>\n",
       "</table>\n",
       "</div>"
      ],
      "text/plain": [
       "    Rep1   Rep2   Rep3 DilutionX\n",
       "0  0.426  0.435  0.447        20\n",
       "1  0.447  0.453  0.442        40\n",
       "2   0.45  0.459  0.452        60"
      ]
     },
     "execution_count": 17,
     "metadata": {},
     "output_type": "execute_result"
    }
   ],
   "source": [
    "dilutions_df_reps"
   ]
  },
  {
   "cell_type": "code",
   "execution_count": 18,
   "metadata": {},
   "outputs": [
    {
     "name": "stdout",
     "output_type": "stream",
     "text": [
      "    Rep1   Rep2   Rep3 DilutionX      Mean         σ\n",
      "0  0.426  0.435  0.447        20  0.436000  0.010536\n",
      "1  0.447  0.453  0.442        40  0.447333  0.005508\n",
      "2   0.45  0.459  0.452        60  0.453667  0.004726\n"
     ]
    }
   ],
   "source": [
    "\n",
    "# calculate the mean of each triplicate\n",
    "dilutions_df_reps[\"Mean\"] = dilutions_df_reps[[\"Rep1\", \"Rep2\", \"Rep3\"]].mean(axis=1)\n",
    "# calculate the variance of each triplicate\n",
    "dilutions_df_reps[\"σ\"] = dilutions_df_reps[[\"Rep1\", \"Rep2\", \"Rep3\"]].iloc[:,:3].std(axis=1)\n",
    "\n",
    "print(dilutions_df_reps)\n",
    "\n",
    "dilutions_df_avg = dilutions_df_reps[[\"Mean\", \"σ\"]]\n",
    "\n",
    "\n",
    "def sample_gaussian(mu, sigma):\n",
    "    \n",
    "    # define the x range: mean - 4*sigma and mean + 4*sigma. increments = mean/1000\n",
    "    x = np.arange((mu-(4*sigma)),(mu+(4*sigma)), mu/1000)\n",
    "    \n",
    "    # use the norm.pdf (probability density function) to sample and return the array.\n",
    "    return norm.pdf(x, mu, sigma)\n",
    "\n",
    "# do it for each calibrant. Not currently stored.\n",
    "for idx, row in dilutions_df_avg.iterrows():\n",
    "    sample_gaussian(dilutions_df_reps.loc[idx][\"Mean\"], dilutions_df_reps.loc[idx][\"σ\"])\n"
   ]
  },
  {
   "cell_type": "markdown",
   "metadata": {},
   "source": [
    "# Make directory for sticking the heat maps into"
   ]
  },
  {
   "cell_type": "code",
   "execution_count": 19,
   "metadata": {},
   "outputs": [
    {
     "name": "stdout",
     "output_type": "stream",
     "text": [
      "/src/processed_data_files\n"
     ]
    }
   ],
   "source": [
    "print(os.getcwd())\n",
    "\n",
    "path = \"/src/output/sampleheatmaps/\"\n",
    "\n",
    "# make directory for sticking the output in\n",
    "if os.path.isdir(path) == False:\n",
    "    os.mkdir(path, mode=0o777)\n",
    "    \n",
    "   "
   ]
  },
  {
   "cell_type": "markdown",
   "metadata": {},
   "source": [
    "# Exporting the parsed calibrant and sample data"
   ]
  },
  {
   "cell_type": "markdown",
   "metadata": {},
   "source": [
    "## Step 1: Check if '/processed_data_files' exists. If not, create it and navigate inside."
   ]
  },
  {
   "cell_type": "code",
   "execution_count": 20,
   "metadata": {},
   "outputs": [
    {
     "name": "stdout",
     "output_type": "stream",
     "text": [
      "/src/processed_data_files\n",
      "/src/processed_data_files\n"
     ]
    }
   ],
   "source": [
    "print(os.getcwd())\n",
    "path_processed_data = \"/src/processed_data_files/\"\n",
    "# make directory for sticking the processed data in\n",
    "if os.path.isdir(path_processed_data) == False:\n",
    "    os.mkdir(path_processed_data, mode=0o777)\n",
    "\n",
    "# navigate into the path_processed_data directory for data storage\n",
    "os.chdir(path_processed_data)\n",
    "print(os.getcwd())\n"
   ]
  },
  {
   "cell_type": "markdown",
   "metadata": {},
   "source": [
    "## Step 2: Export both calibrant and sample data into processed_data_files as CSV files."
   ]
  },
  {
   "cell_type": "code",
   "execution_count": 21,
   "metadata": {},
   "outputs": [],
   "source": [
    "# navigate back into the root directory for neatness\n",
    "os.chdir(\"/src/\")"
   ]
  },
  {
   "cell_type": "markdown",
   "metadata": {},
   "source": [
    "## "
   ]
  },
  {
   "cell_type": "code",
   "execution_count": null,
   "metadata": {},
   "outputs": [],
   "source": []
  }
 ],
 "metadata": {
  "interpreter": {
   "hash": "4cd7ab41f5fca4b9b44701077e38c5ffd31fe66a6cab21e0214b68d958d0e462"
  },
  "kernelspec": {
   "display_name": "Python 3 (ipykernel)",
   "language": "python",
   "name": "python3"
  },
  "language_info": {
   "codemirror_mode": {
    "name": "ipython",
    "version": 3
   },
   "file_extension": ".py",
   "mimetype": "text/x-python",
   "name": "python",
   "nbconvert_exporter": "python",
   "pygments_lexer": "ipython3",
   "version": "3.10.6"
  }
 },
 "nbformat": 4,
 "nbformat_minor": 2
}
