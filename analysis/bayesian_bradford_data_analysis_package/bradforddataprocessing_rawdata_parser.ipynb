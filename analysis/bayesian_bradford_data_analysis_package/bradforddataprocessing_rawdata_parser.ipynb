{
 "cells": [
  {
   "cell_type": "markdown",
   "metadata": {},
   "source": [
    "# Documentation\n",
    "<br>\n",
    "This notebook is the first step in a workflow that deals with Bradford Protein Quantification 96x well plate reader data:\n",
    "\n",
    "1. Exploratory data analysis.\n",
    "2. Cleaning the data to remove absorbance values that are outside the linear range of the instrument\n",
    "3. Parsing and exporting both the calibrant and sample data into the processed_data_files directory preparatory to downstream analysis\n",
    "\n",
    "Alex Perkins 16th November 2021\n",
    "a.j.p.perkins@sms.ed.ac.uk"
   ]
  },
  {
   "cell_type": "markdown",
   "metadata": {},
   "source": [
    "### Environment Preparation ---------------------------------------------------------------"
   ]
  },
  {
   "cell_type": "markdown",
   "metadata": {},
   "source": [
    "### Import Packages"
   ]
  },
  {
   "cell_type": "code",
   "execution_count": 1,
   "metadata": {
    "tags": []
   },
   "outputs": [
    {
     "name": "stderr",
     "output_type": "stream",
     "text": [
      "WARNING (theano.tensor.blas): Using NumPy C-API based implementation for BLAS functions.\n"
     ]
    },
    {
     "name": "stdout",
     "output_type": "stream",
     "text": [
      "Running on PyMC3 v3.11.4\n"
     ]
    }
   ],
   "source": [
    "import pandas as pd\n",
    "import numpy as np\n",
    "#import seaborn as sns\n",
    "import matplotlib.pyplot as plt\n",
    "import matplotlib.lines as mlines\n",
    "import pymc3 as pm\n",
    "from pymc3 import HalfCauchy, Model, Normal, glm, plot_posterior_predictive_glm, sample\n",
    "\n",
    "print(f\"Running on PyMC3 v{pm.__version__}\")\n",
    "\n",
    "import arviz as az\n",
    "from scipy.stats import norm\n",
    "\n",
    "# Import curve fitting package from scipy\n",
    "from sklearn.linear_model import LinearRegression\n",
    "\n",
    "# import os\n",
    "import os, sys, shutil\n",
    "\n",
    "from experiment_specific_config import *\n",
    "\n",
    "%matplotlib inline"
   ]
  },
  {
   "cell_type": "markdown",
   "metadata": {},
   "source": [
    "### This cell just deals with reading the data file in the directory"
   ]
  },
  {
   "cell_type": "code",
   "execution_count": 2,
   "metadata": {
    "tags": []
   },
   "outputs": [
    {
     "name": "stdout",
     "output_type": "stream",
     "text": [
      "['14032022_first_RSs_bradford.csv']\n"
     ]
    }
   ],
   "source": [
    "##################################################################\n",
    "\n",
    "move_file = False\n",
    "\n",
    "##################################################################\n",
    "# define error handler\n",
    "class UnAcceptedValueError(Exception):   \n",
    "    def __init__(self, data):    \n",
    "        self.data = data\n",
    "    def __str__(self):\n",
    "        return repr(self.data)\n",
    "\n",
    "####################################################################\n",
    "# gets all items in directory\n",
    "items = os.listdir(\".\")\n",
    "\n",
    "# lists all .csv\n",
    "csv_list = []\n",
    "\n",
    "try:\n",
    "    for names in items:\n",
    "        if names.endswith(\".CSV\") | names.endswith(\".csv\"):\n",
    "            csv_list.append(names)\n",
    "\n",
    "except:\n",
    "    print(\"Couldn't find any csv files\")\n",
    "\n",
    "try:\n",
    "    if(len(csv_list) > 1):\n",
    "        raise UnAcceptedValueError(\"More than 1x .CSV file in the directory\");\n",
    "except UnAcceptedValueError as e:\n",
    "    print (\"Received error:\", e.data)\n",
    "    # kills the process\n",
    "    quit()\n",
    "##########################################################################################\n",
    "print(csv_list)\n",
    "#import dataset as dataframe\n",
    "raw_data = pd.read_csv(csv_list[0], header=None)\n",
    "\n",
    "date= raw_data.iloc[1,1]\n",
    "\n",
    "\n",
    "\n",
    "data = raw_data.iloc[9:,:]\n",
    "\n",
    "data.columns = data.iloc[0,:]\n",
    "\n",
    "data = data.iloc[1:,:3]\n",
    "\n",
    "data = data.reset_index(drop=True)\n"
   ]
  },
  {
   "cell_type": "code",
   "execution_count": 3,
   "metadata": {
    "tags": []
   },
   "outputs": [
    {
     "name": "stdout",
     "output_type": "stream",
     "text": [
      "/src\n"
     ]
    }
   ],
   "source": [
    "#######################################################################\n",
    "\n",
    "print(os.getcwd())\n",
    "path = \"/src/output/\"\n",
    "# make directory for sticking the output in\n",
    "if os.path.isdir(path) == False:\n",
    "    os.mkdir(path, mode=0o777)\n",
    "    \n",
    "    \n",
    "# now that the dataset has been read in, move it into the output file for neatness.\n",
    "if 1 == move_file:\n",
    "    shutil.move(csv_list[0], path)\n",
    "\n",
    "# navigate into the directory for future plot storage\n",
    "os.chdir(path)"
   ]
  },
  {
   "cell_type": "code",
   "execution_count": null,
   "metadata": {},
   "outputs": [],
   "source": []
  },
  {
   "cell_type": "markdown",
   "metadata": {},
   "source": [
    "### End of Enviroment Setup ---------------------------------------------------------------------------"
   ]
  },
  {
   "cell_type": "code",
   "execution_count": 4,
   "metadata": {},
   "outputs": [],
   "source": [
    "#  define limits for linear range of platereader\n",
    "upper_limit = 0.75\n",
    "lower_limit = 0.45\n"
   ]
  },
  {
   "cell_type": "markdown",
   "metadata": {},
   "source": [
    "# Looking at the raw calibrant data"
   ]
  },
  {
   "cell_type": "markdown",
   "metadata": {},
   "source": [
    "## Step 1: Looking at the raw values"
   ]
  },
  {
   "cell_type": "code",
   "execution_count": 5,
   "metadata": {},
   "outputs": [
    {
     "data": {
      "image/png": "[encoded data removed]",
      "text/plain": [
       "<Figure size 432x288 with 2 Axes>"
      ]
     },
     "metadata": {},
     "output_type": "display_data"
    }
   ],
   "source": [
    "# real concs in wells. Stocks in ug/ml diluted by 20x\n",
    "calibrant_range = [\"0\",\"50\",\"75\",\"100\", \"125\", \"150\", \"175\",\"200\"]\n",
    "\n",
    "num_of_calibrant_wells = num_calibrant_replicates * len(calibrant_range)\n",
    "\n",
    "calibrants = data.iloc[:num_of_calibrant_wells,[2]]\n",
    "\n",
    "\n",
    "# reshape\n",
    "calibrants = calibrants.astype(float)\n",
    "calibrants_np = calibrants.to_numpy()\n",
    "\n",
    "calibrants_np_2d = np.reshape(calibrants_np, (int(len(calibrants_np)/num_calibrant_replicates), num_calibrant_replicates))\n",
    "\n",
    "import seaborn as sns\n",
    "\n",
    "sns.set()\n",
    "ax1 = sns.heatmap(calibrants_np_2d, vmin = lower_limit, vmax = upper_limit, annot=True, cmap=\"coolwarm\")\n",
    "ax1.set_ylabel(\"BSA ug/Ml\")\n",
    "ax1.set_title(\"Calibrant Raw Absorbances.\")\n",
    "ax1.set_xlabel(\"Replicate #\")\n",
    "plt.yticks(np.arange(8)+0.5,calibrant_range, rotation=0, fontsize=\"10\")\n",
    "\n",
    "plt.savefig(\"BSA_absorbances_heat.png\")\n",
    "\n",
    "plt.show()"
   ]
  },
  {
   "cell_type": "markdown",
   "metadata": {},
   "source": [
    "## Step 2: Reorganising Calibrant Data"
   ]
  },
  {
   "cell_type": "code",
   "execution_count": 6,
   "metadata": {},
   "outputs": [],
   "source": [
    "# segregate the calibrant samples.\n",
    "calibrants_df = pd.DataFrame(calibrants_np_2d, columns=[\"Rep1\", \"Rep2\", \"Rep3\",\"Rep4\", \"Rep5\"], index=calibrant_range)"
   ]
  },
  {
   "cell_type": "code",
   "execution_count": 7,
   "metadata": {},
   "outputs": [
    {
     "name": "stderr",
     "output_type": "stream",
     "text": [
      "*c* argument looks like a single numeric RGB or RGBA sequence, which should be avoided as value-mapping will have precedence in case its length matches with *x* & *y*.  Please use the *color* keyword-argument or provide a 2D array with a single row if you intend to specify the same RGB or RGBA value for all points.\n"
     ]
    },
    {
     "name": "stdout",
     "output_type": "stream",
     "text": [
      "    Concentration  Absorbance\n",
      "0             0.0       0.437\n",
      "1             0.0       0.445\n",
      "2             0.0       0.435\n",
      "3             0.0       0.437\n",
      "4             0.0       0.452\n",
      "5            50.0       0.477\n",
      "6            50.0       0.471\n",
      "7            50.0       0.453\n",
      "8            50.0       0.450\n",
      "9            50.0       0.488\n",
      "10           75.0       0.483\n",
      "11           75.0       0.475\n",
      "12           75.0       0.481\n",
      "13           75.0       0.496\n",
      "14           75.0       0.483\n",
      "15          100.0       0.465\n",
      "16          100.0       0.470\n",
      "17          100.0       0.472\n",
      "18          100.0       0.516\n",
      "19          100.0       0.468\n",
      "20          125.0       0.543\n",
      "21          125.0       0.538\n",
      "22          125.0       0.536\n",
      "23          125.0       0.554\n",
      "24          125.0       0.521\n",
      "25          150.0       0.593\n",
      "26          150.0       0.558\n",
      "27          150.0       0.555\n",
      "28          150.0       0.560\n",
      "29          150.0       0.539\n",
      "30          175.0       0.622\n",
      "31          175.0       0.582\n",
      "32          175.0       0.592\n",
      "33          175.0       0.595\n",
      "34          175.0       0.603\n",
      "35          200.0       0.673\n",
      "36          200.0       0.618\n",
      "37          200.0       0.648\n",
      "38          200.0       0.593\n",
      "39          200.0       0.634\n"
     ]
    },
    {
     "data": {
      "image/png": "[encoded data removed]",
      "text/plain": [
       "<Figure size 432x288 with 1 Axes>"
      ]
     },
     "metadata": {},
     "output_type": "display_data"
    }
   ],
   "source": [
    "# define the function to use it later\n",
    "def reorg_calibrants_for_GLM(input_data):\n",
    "    output_for_glm = pd.DataFrame(columns=['Concentration', 'Absorbance'])\n",
    "    for idx, row in input_data.iterrows():\n",
    "\n",
    "\n",
    "        r_list = [row['Rep1'],row['Rep2'],row['Rep3'],row['Rep4'],row['Rep5']]\n",
    "\n",
    "        place_holder_df = pd.DataFrame()\n",
    "\n",
    "        place_holder_df['Absorbance'] = r_list\n",
    "        place_holder_df['Concentration'] = np.float(idx)\n",
    "\n",
    "        output_for_glm = output_for_glm.append(place_holder_df)\n",
    "\n",
    "    output_for_glm =output_for_glm.reset_index(drop=True)\n",
    "    print(output_for_glm)\n",
    "\n",
    "    output_for_glm.plot.scatter(x='Absorbance', y='Concentration')\n",
    "    \n",
    "    return output_for_glm\n",
    "\n",
    "calibrants_for_GP = reorg_calibrants_for_GLM(calibrants_df)"
   ]
  },
  {
   "cell_type": "markdown",
   "metadata": {},
   "source": [
    "## Step 3: Filter the calibrants and only keep those within the linear range  (0.75 - 0.45)"
   ]
  },
  {
   "cell_type": "code",
   "execution_count": 8,
   "metadata": {},
   "outputs": [
    {
     "name": "stdout",
     "output_type": "stream",
     "text": [
      "    Concentration  Absorbance\n",
      "0             0.0       0.452\n",
      "1            50.0       0.477\n",
      "2            50.0       0.471\n",
      "3            50.0       0.453\n",
      "4            50.0       0.450\n",
      "5            50.0       0.488\n",
      "6            75.0       0.483\n",
      "7            75.0       0.475\n",
      "8            75.0       0.481\n",
      "9            75.0       0.496\n",
      "10           75.0       0.483\n",
      "11          100.0       0.465\n",
      "12          100.0       0.470\n",
      "13          100.0       0.472\n",
      "14          100.0       0.516\n",
      "15          100.0       0.468\n",
      "16          125.0       0.543\n",
      "17          125.0       0.538\n",
      "18          125.0       0.536\n",
      "19          125.0       0.554\n",
      "20          125.0       0.521\n",
      "21          150.0       0.593\n",
      "22          150.0       0.558\n",
      "23          150.0       0.555\n",
      "24          150.0       0.560\n",
      "25          150.0       0.539\n",
      "26          175.0       0.622\n",
      "27          175.0       0.582\n",
      "28          175.0       0.592\n",
      "29          175.0       0.595\n",
      "30          175.0       0.603\n",
      "31          200.0       0.673\n",
      "32          200.0       0.618\n",
      "33          200.0       0.648\n",
      "34          200.0       0.593\n",
      "35          200.0       0.634\n"
     ]
    }
   ],
   "source": [
    "##################   Subset Standards aborbance values that fall within the linear range (0.75 - 0.45)\n",
    "\n",
    "calibrants_for_GP = calibrants_for_GP.loc[(calibrants_for_GP[\"Absorbance\"] >= lower_limit) & (calibrants_for_GP[\"Absorbance\"] <= upper_limit)]\n",
    "calibrants_for_GP = calibrants_for_GP.reset_index(drop=True)\n",
    "print(calibrants_for_GP)"
   ]
  },
  {
   "cell_type": "markdown",
   "metadata": {},
   "source": [
    "## Step: 4 Defining the absorbance of each concentration as a gaussian.\n",
    "\n",
    "This allows us to store the mean concentration and it's error as a function and calculate the probabilities on demand.\n",
    "\n",
    "Lets assume that the technical error of the absorbance measurements are normally distributed\n",
    "\n",
    "1. We calculate the mean and the standard deviation for each absorbance triplicate.\n",
    "2. We define a gaussian sampling function so we can easily sample and return a granular array."
   ]
  },
  {
   "cell_type": "code",
   "execution_count": 9,
   "metadata": {},
   "outputs": [],
   "source": [
    "\n",
    "\n",
    "# calculate the mean of each triplicate\n",
    "calibrants_df[\"Mean\"] = calibrants_df.mean(axis=1)\n",
    "# calculate the variance of each triplicate\n",
    "calibrants_df[\"σ\"] = calibrants_df.iloc[:,:3].std(axis=1)\n",
    "\n",
    "calibrants_df_avg = calibrants_df[[\"Mean\", \"σ\"]]\n",
    "\n",
    "\n",
    "def sample_gaussian(mu, sigma):\n",
    "    \n",
    "    # define the x range: mean - 4*sigma and mean + 4*sigma. increments = mean/1000\n",
    "    x = np.arange((mu-(4*sigma)),(mu+(4*sigma)), mu/1000)\n",
    "    \n",
    "    # use the norm.pdf (probability density function) to sample and return the array.\n",
    "    return norm.pdf(x, mu, sigma)\n",
    "\n",
    "# do it for each calibrant. Not currently stored.\n",
    "for idx, row in calibrants_df_avg.iterrows():\n",
    "    sample_gaussian(calibrants_df.loc[idx][\"Mean\"], calibrants_df.loc[idx][\"σ\"])\n"
   ]
  },
  {
   "cell_type": "markdown",
   "metadata": {},
   "source": [
    "Having got our function, lets plot all the gaussians together and have a wee look."
   ]
  },
  {
   "cell_type": "code",
   "execution_count": 10,
   "metadata": {},
   "outputs": [
    {
     "data": {
      "image/png": "[encoded data removed]",
      "text/plain": [
       "<Figure size 432x288 with 1 Axes>"
      ]
     },
     "metadata": {},
     "output_type": "display_data"
    }
   ],
   "source": [
    "def print_all_gaussians(mu, sigma, bins, index):\n",
    "    \n",
    "    # define the x range: mean - 4*sigma and mean + 4*sigma. increments = mean/1000\n",
    "    x = np.arange((mu-(4*sigma)),(mu+(4*sigma)), mu/1000)\n",
    "    \n",
    "    # plot the function\n",
    "    plt.plot(x, norm.pdf(x, mu, sigma),  label=str(idx))\n",
    "    \n",
    "\n",
    "# do it for every calibrant and produce the plot afterwards\n",
    "for idx, row in calibrants_df.iterrows():\n",
    "    print_all_gaussians(calibrants_df.loc[idx][\"Mean\"], calibrants_df.loc[idx][\"σ\"], 10000, idx)\n",
    "\n",
    "# just setting the labels and ticks\n",
    "plt.tick_params(left=False,\n",
    "                bottom=False,\n",
    "                labelleft=False,\n",
    "                labelbottom=True)\n",
    "\n",
    "plt.title('Calibrant Absorbance Probability Functions')\n",
    "plt.xticks(rotation=90)\n",
    "plt.xlabel('Arbitary Absorbance Units')\n",
    "\n",
    "plt.legend(title='μg/ml', loc=(1.03, 0.3))\n",
    "\n",
    "plt.savefig('Calibrant Absorbance Probabilty Functions.png')"
   ]
  },
  {
   "cell_type": "markdown",
   "metadata": {},
   "source": [
    "# Sample Data"
   ]
  },
  {
   "cell_type": "markdown",
   "metadata": {},
   "source": [
    "# Step 1: Looking at the raw sample data"
   ]
  },
  {
   "cell_type": "code",
   "execution_count": 11,
   "metadata": {},
   "outputs": [],
   "source": [
    "dilution_data = data.iloc[num_of_calibrant_wells:,:]\n",
    "dilution_data = dilution_data.reset_index(drop=True)\n",
    "dilution_data['Raw Data (595)'] = pd.to_numeric(dilution_data['Raw Data (595)'])"
   ]
  },
  {
   "cell_type": "code",
   "execution_count": 12,
   "metadata": {},
   "outputs": [
    {
     "data": {
      "text/plain": [
       "['50', '100', '250', '400', '500', '600', '750', '1000']"
      ]
     },
     "execution_count": 12,
     "metadata": {},
     "output_type": "execute_result"
    }
   ],
   "source": [
    "dilutions"
   ]
  },
  {
   "cell_type": "code",
   "execution_count": 13,
   "metadata": {},
   "outputs": [
    {
     "data": {
      "text/plain": [
       "3"
      ]
     },
     "execution_count": 13,
     "metadata": {},
     "output_type": "execute_result"
    }
   ],
   "source": [
    "num_experiment_replicates"
   ]
  },
  {
   "cell_type": "code",
   "execution_count": 14,
   "metadata": {},
   "outputs": [
    {
     "data": {
      "text/plain": [
       "24"
      ]
     },
     "execution_count": 14,
     "metadata": {},
     "output_type": "execute_result"
    }
   ],
   "source": [
    "protein_slicer = num_experiment_replicates * len(dilutions)\n",
    "protein_slicer"
   ]
  },
  {
   "cell_type": "code",
   "execution_count": 15,
   "metadata": {},
   "outputs": [
    {
     "data": {
      "text/plain": [
       "{'AA tRNA Synthetases': {'50': 9 Well     Content  Raw Data (595)\n",
       "  0  A01  Sample X41           0.449\n",
       "  1  A02  Sample X42           0.488\n",
       "  2  A03  Sample X43           0.490,\n",
       "  '100': 9 Well     Content  Raw Data (595)\n",
       "  3  B01  Sample X44           0.463\n",
       "  4  B02  Sample X45           0.436\n",
       "  5  B03  Sample X46           0.431,\n",
       "  '250': 9 Well     Content  Raw Data (595)\n",
       "  6  C01  Sample X47           0.431\n",
       "  7  C02  Sample X48           0.422\n",
       "  8  C03  Sample X49           0.425,\n",
       "  '400': 9  Well     Content  Raw Data (595)\n",
       "  9   D01  Sample X50           0.431\n",
       "  10  D02  Sample X51           0.427\n",
       "  11  D03  Sample X52           0.422,\n",
       "  '500': 9  Well     Content  Raw Data (595)\n",
       "  12  E01  Sample X53           0.426\n",
       "  13  E02  Sample X54           0.432\n",
       "  14  E03  Sample X55           0.431,\n",
       "  '600': 9  Well     Content  Raw Data (595)\n",
       "  15  F01  Sample X56           0.428\n",
       "  16  F02  Sample X57           0.424\n",
       "  17  F03  Sample X58           0.440,\n",
       "  '750': 9  Well     Content  Raw Data (595)\n",
       "  18  G01  Sample X59           0.431\n",
       "  19  G02  Sample X60           0.428\n",
       "  20  G03  Sample X61           0.436,\n",
       "  '1000': 9  Well     Content  Raw Data (595)\n",
       "  21  H01  Sample X62           0.429\n",
       "  22  H02  Sample X63           0.419\n",
       "  23  H03  Sample X64           0.431}}"
      ]
     },
     "execution_count": 15,
     "metadata": {},
     "output_type": "execute_result"
    }
   ],
   "source": [
    "dilution_dict = {}\n",
    "\n",
    "proteins_backslice = 0\n",
    "proteins_frontslice = protein_slicer\n",
    "\n",
    "for p in unknown_proteins:\n",
    "    \n",
    "    # initalise the upper key of the dict\n",
    "    dilution_dict[p] = {}\n",
    "    \n",
    "    # get all of the wells relevent to that protein using the slices and reset the index\n",
    "    working_slice = dilution_data.iloc[proteins_backslice:proteins_frontslice,:]\n",
    "    working_slice = working_slice.reset_index(drop=True)\n",
    "    \n",
    "    \n",
    "    #initalise the slicers for going through the dilutions\n",
    "    dilutions_backslice = 0\n",
    "    dilutions_frontslice = num_experiment_replicates\n",
    "    \n",
    "    # iterate through the dilutions list\n",
    "    for d in dilutions:\n",
    "        \n",
    "        # actually assign the data\n",
    "        dilution_dict[p][d] = working_slice.iloc[dilutions_backslice : dilutions_frontslice]\n",
    "        \n",
    "        # update the slicers\n",
    "        dilutions_backslice = dilutions_frontslice\n",
    "        dilutions_frontslice = dilutions_frontslice + num_experiment_replicates\n",
    "        \n",
    "\n",
    "    # update the slicers\n",
    "    proteins_backslice = proteins_frontslice\n",
    "    proteins_frontslice = proteins_frontslice + protein_slicer\n",
    "    \n",
    "dilution_dict\n"
   ]
  },
  {
   "cell_type": "code",
   "execution_count": 24,
   "metadata": {},
   "outputs": [
    {
     "data": {
      "text/html": [
       "<div>\n",
       "<style scoped>\n",
       "    .dataframe tbody tr th:only-of-type {\n",
       "        vertical-align: middle;\n",
       "    }\n",
       "\n",
       "    .dataframe tbody tr th {\n",
       "        vertical-align: top;\n",
       "    }\n",
       "\n",
       "    .dataframe thead th {\n",
       "        text-align: right;\n",
       "    }\n",
       "</style>\n",
       "<table border=\"1\" class=\"dataframe\">\n",
       "  <thead>\n",
       "    <tr style=\"text-align: right;\">\n",
       "      <th>9</th>\n",
       "      <th>Well</th>\n",
       "      <th>Content</th>\n",
       "      <th>Raw Data (595)</th>\n",
       "    </tr>\n",
       "  </thead>\n",
       "  <tbody>\n",
       "    <tr>\n",
       "      <th>0</th>\n",
       "      <td>A01</td>\n",
       "      <td>Sample X41</td>\n",
       "      <td>0.449</td>\n",
       "    </tr>\n",
       "    <tr>\n",
       "      <th>1</th>\n",
       "      <td>A02</td>\n",
       "      <td>Sample X42</td>\n",
       "      <td>0.488</td>\n",
       "    </tr>\n",
       "    <tr>\n",
       "      <th>2</th>\n",
       "      <td>A03</td>\n",
       "      <td>Sample X43</td>\n",
       "      <td>0.490</td>\n",
       "    </tr>\n",
       "  </tbody>\n",
       "</table>\n",
       "</div>"
      ],
      "text/plain": [
       "9 Well     Content  Raw Data (595)\n",
       "0  A01  Sample X41           0.449\n",
       "1  A02  Sample X42           0.488\n",
       "2  A03  Sample X43           0.490"
      ]
     },
     "execution_count": 24,
     "metadata": {},
     "output_type": "execute_result"
    }
   ],
   "source": [
    "dilution_dict['AA tRNA Synthetases']['50']"
   ]
  },
  {
   "cell_type": "markdown",
   "metadata": {},
   "source": [
    "# Make directory for sticking the heat maps into"
   ]
  },
  {
   "cell_type": "code",
   "execution_count": 25,
   "metadata": {},
   "outputs": [
    {
     "name": "stdout",
     "output_type": "stream",
     "text": [
      "/src/output\n"
     ]
    }
   ],
   "source": [
    "print(os.getcwd())\n",
    "\n",
    "path = \"/src/output/sampleheatmaps/\"\n",
    "\n",
    "# make directory for sticking the output in\n",
    "if os.path.isdir(path) == False:\n",
    "    os.mkdir(path, mode=0o777)\n",
    "    \n",
    "   "
   ]
  },
  {
   "cell_type": "markdown",
   "metadata": {},
   "source": [
    "# Iterate through the dilution dictionary and make the plots"
   ]
  },
  {
   "cell_type": "markdown",
   "metadata": {},
   "source": [
    "## Step 2: Reorganising Sample Data"
   ]
  },
  {
   "cell_type": "code",
   "execution_count": 53,
   "metadata": {},
   "outputs": [
    {
     "data": {
      "image/png": "[encoded data removed]",
      "text/plain": [
       "<Figure size 432x288 with 2 Axes>"
      ]
     },
     "metadata": {},
     "output_type": "display_data"
    },
    {
     "name": "stdout",
     "output_type": "stream",
     "text": [
      "   DilutionX  Absorbance           ProteinMix\n",
      "0         50       0.449  AA tRNA Synthetases\n",
      "1         50       0.488  AA tRNA Synthetases\n",
      "2         50       0.490  AA tRNA Synthetases\n",
      "3        100       0.463  AA tRNA Synthetases\n",
      "4        100       0.436  AA tRNA Synthetases\n",
      "5        100       0.431  AA tRNA Synthetases\n",
      "6        250       0.431  AA tRNA Synthetases\n",
      "7        250       0.422  AA tRNA Synthetases\n",
      "8        250       0.425  AA tRNA Synthetases\n",
      "9        400       0.431  AA tRNA Synthetases\n",
      "10       400       0.427  AA tRNA Synthetases\n",
      "11       400       0.422  AA tRNA Synthetases\n",
      "12       500       0.426  AA tRNA Synthetases\n",
      "13       500       0.432  AA tRNA Synthetases\n",
      "14       500       0.431  AA tRNA Synthetases\n",
      "15       600       0.428  AA tRNA Synthetases\n",
      "16       600       0.424  AA tRNA Synthetases\n",
      "17       600       0.440  AA tRNA Synthetases\n",
      "18       750       0.431  AA tRNA Synthetases\n",
      "19       750       0.428  AA tRNA Synthetases\n",
      "20       750       0.436  AA tRNA Synthetases\n",
      "21      1000       0.429  AA tRNA Synthetases\n",
      "22      1000       0.419  AA tRNA Synthetases\n",
      "23      1000       0.431  AA tRNA Synthetases\n"
     ]
    }
   ],
   "source": [
    "sns.set()\n",
    "\n",
    "#initalise empty tidy dataframe\n",
    "dilution_df = pd.DataFrame(columns= [\"DilutionX\", \"Absorbance\", \"ProteinMix\"])\n",
    "\n",
    "\n",
    "for p_id, p_data in dilution_dict.items():\n",
    "    \n",
    "    # p_id is the mixture name. e.g. AA tRNA Synthatases\n",
    "    # p_data contains a dictionary containing all of the dilutions. e.g. '100': dataframe with three replicates\n",
    "\n",
    "    \n",
    "    protein_list = []\n",
    "    \n",
    "    for dilution in p_data:\n",
    "        \n",
    "        # dilution is just the key. i.e. '100'\n",
    "        \n",
    "        # use the key to look up all the absorbance values for the replicates of that dilution.\n",
    "        # make them into a list and append on the 'master list' for that protein mixture\n",
    "        \n",
    "        sample_data = list(p_data[dilution]['Raw Data (595)'])\n",
    "        protein_list.append(sample_data)\n",
    "        \n",
    "    \n",
    "    \n",
    "    plot_dict = {}\n",
    "    \n",
    "    # using the index and the dilution dictionary keys, populate the plot dict with the absorbances lists generated above.\n",
    "    for i,d in enumerate(dilutions):\n",
    "        \n",
    "        plot_dict[d] = protein_list[i]\n",
    "        \n",
    "    # use the dictionary to make a DataFrame and transpose it\n",
    "        \n",
    "    plot_df = pd.DataFrame(plot_dict).T\n",
    "    \n",
    "    \n",
    "    # make heatmap\n",
    "    \n",
    "    sns.heatmap(plot_df, vmin = lower_limit, vmax = upper_limit, annot=True, cmap=\"coolwarm\")\n",
    "\n",
    "    plt.ylabel(\"Dilution Factor\")\n",
    "    \n",
    "    title = \"Absorbances of Diluted \" + p_id\n",
    "    \n",
    "    plt.title(title)\n",
    "    plt.xlabel(\"Replicate #\")\n",
    "    plt.yticks(np.arange(plot_df.shape[0])+0.5, dilutions, rotation=0, fontsize=\"10\")\n",
    "\n",
    "    figname = p_id + \"_\" + dilution + \".png\"\n",
    "\n",
    "    plt.savefig(figname)\n",
    "    plt.show()\n",
    "    \n",
    "    \n",
    "    \n",
    "    ######### retranspose back so that the melt works\n",
    "    plot_df = plot_df.T\n",
    "    \n",
    "    # melt for tidy data\n",
    "    melted = pd.melt(frame = plot_df,\n",
    "                    var_name = 'DilutionX',\n",
    "                    value_name = 'Absorbance'\n",
    "                    )\n",
    "    \n",
    "    \n",
    "    melted['ProteinMix'] = p_id\n",
    "    \n",
    "    dilution_df = pd.concat([dilution_df, melted])\n",
    "    \n",
    "    \n",
    "dilution_df = dilution_df.reset_index(drop=True)\n",
    "    \n",
    "print(dilution_df) "
   ]
  },
  {
   "cell_type": "markdown",
   "metadata": {},
   "source": [
    "## Step 3:  Filter the sample data and only keep those within the linear range  (0.75 - 0.45)"
   ]
  },
  {
   "cell_type": "code",
   "execution_count": 54,
   "metadata": {},
   "outputs": [
    {
     "name": "stdout",
     "output_type": "stream",
     "text": [
      "  DilutionX  Absorbance           ProteinMix\n",
      "0        50       0.488  AA tRNA Synthetases\n",
      "1        50       0.490  AA tRNA Synthetases\n",
      "2       100       0.463  AA tRNA Synthetases\n"
     ]
    }
   ],
   "source": [
    "##################   Subset Standards aborbance values that fall within the linear range (0.75 - 0.45)\n",
    "\n",
    "acceptable_data = dilution_df.loc[(dilution_df[\"Absorbance\"] >= lower_limit) & (dilution_df[\"Absorbance\"] <= upper_limit)]\n",
    "\n",
    "acceptable_data = acceptable_data.reset_index(drop=True)\n",
    "print(acceptable_data)"
   ]
  },
  {
   "cell_type": "markdown",
   "metadata": {},
   "source": [
    "# Exporting the parsed calibrant and sample data"
   ]
  },
  {
   "cell_type": "markdown",
   "metadata": {},
   "source": [
    "## Step 1: Check if '/processed_data_files' exists. If not, create it and navigate inside."
   ]
  },
  {
   "cell_type": "code",
   "execution_count": 55,
   "metadata": {},
   "outputs": [
    {
     "name": "stdout",
     "output_type": "stream",
     "text": [
      "/src\n",
      "/src/processed_data_files\n"
     ]
    }
   ],
   "source": [
    "print(os.getcwd())\n",
    "path_processed_data = \"/src/processed_data_files/\"\n",
    "# make directory for sticking the processed data in\n",
    "if os.path.isdir(path_processed_data) == False:\n",
    "    os.mkdir(path_processed_data, mode=0o777)\n",
    "\n",
    "# navigate into the path_processed_data directory for data storage\n",
    "os.chdir(path_processed_data)\n",
    "print(os.getcwd())\n"
   ]
  },
  {
   "cell_type": "markdown",
   "metadata": {},
   "source": [
    "## Step 2: Export both calibrant and sample data into processed_data_files as CSV files."
   ]
  },
  {
   "cell_type": "code",
   "execution_count": 56,
   "metadata": {},
   "outputs": [],
   "source": [
    "calibrants_for_GP.to_csv(\"parsed_calibrant_data.csv\")\n",
    "acceptable_data.to_csv(\"tidy_sample_data.csv\")"
   ]
  },
  {
   "cell_type": "code",
   "execution_count": 57,
   "metadata": {},
   "outputs": [],
   "source": [
    "# navigate back into the root directory for neatness\n",
    "os.chdir(\"/src/\")"
   ]
  },
  {
   "cell_type": "markdown",
   "metadata": {},
   "source": [
    "## "
   ]
  },
  {
   "cell_type": "code",
   "execution_count": null,
   "metadata": {},
   "outputs": [],
   "source": []
  }
 ],
 "metadata": {
  "interpreter": {
   "hash": "4cd7ab41f5fca4b9b44701077e38c5ffd31fe66a6cab21e0214b68d958d0e462"
  },
  "kernelspec": {
   "display_name": "Python 3 (ipykernel)",
   "language": "python",
   "name": "python3"
  },
  "language_info": {
   "codemirror_mode": {
    "name": "ipython",
    "version": 3
   },
   "file_extension": ".py",
   "mimetype": "text/x-python",
   "name": "python",
   "nbconvert_exporter": "python",
   "pygments_lexer": "ipython3",
   "version": "3.8.10"
  }
 },
 "nbformat": 4,
 "nbformat_minor": 2
}
