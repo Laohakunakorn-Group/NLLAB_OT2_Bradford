{
 "cells": [
  {
   "cell_type": "markdown",
   "metadata": {},
   "source": [
    "# You might have to open the raw data file in libra office and merge the dilimiters"
   ]
  },
  {
   "cell_type": "code",
   "execution_count": 1,
   "metadata": {
    "tags": [],
    "vscode": {
     "languageId": "python"
    }
   },
   "outputs": [],
   "source": [
    "import pandas as pd\n",
    "import numpy as np\n",
    "#import seaborn as sns\n",
    "import matplotlib.pyplot as plt\n",
    "import matplotlib.lines as mlines\n",
    "\n",
    "# Import curve fitting package from scipy\n",
    "from sklearn.linear_model import LinearRegression\n",
    "\n",
    "# import os\n",
    "import os, sys, shutil\n",
    "\n",
    "\n",
    "\n",
    "raw_data = pd.read_csv('154253_230202_OT2_BRADFORD.csv', sep=',', header=None)\n"
   ]
  },
  {
   "cell_type": "code",
   "execution_count": 2,
   "metadata": {
    "vscode": {
     "languageId": "python"
    }
   },
   "outputs": [
    {
     "name": "stdout",
     "output_type": "stream",
     "text": [
      "      1      2      3      4      5                         6      7      8   \\\n",
      "0  1.422  1.420  1.459  0.595  0.601                     0.607  0.649  0.595   \n",
      "1  1.042  1.076  1.077  1.383  1.373                     1.386  1.377  1.374   \n",
      "2  0.778  0.801  0.800  1.720  1.705                      1.73  1.721  1.735   \n",
      "3  1.929  1.923  1.920  1.937  1.945  Corrected [Bradford:595]    NaN    NaN   \n",
      "4  2.137  2.139  2.148  2.143  2.144  Corrected [Bradford:595]    NaN    NaN   \n",
      "5  2.319  2.306  2.307  2.306  2.378  Corrected [Bradford:595]    NaN    NaN   \n",
      "6  2.489  2.512  2.499  2.495  2.462  Corrected [Bradford:595]    NaN    NaN   \n",
      "7  2.567  2.564  2.552  2.555  2.559  Corrected [Bradford:595]    NaN    NaN   \n",
      "\n",
      "                         9   10  11  12  \n",
      "0  Corrected [Bradford:595] NaN NaN NaN  \n",
      "1  Corrected [Bradford:595] NaN NaN NaN  \n",
      "2  Corrected [Bradford:595] NaN NaN NaN  \n",
      "3                       NaN NaN NaN NaN  \n",
      "4                       NaN NaN NaN NaN  \n",
      "5                       NaN NaN NaN NaN  \n",
      "6                       NaN NaN NaN NaN  \n",
      "7                       NaN NaN NaN NaN  \n"
     ]
    }
   ],
   "source": [
    "# get the row index of the cell that contains the string \"Corrected [Bradford:595]\"\n",
    "row_index = raw_data.index[raw_data.loc[:,0]==\"Corrected [Bradford:595]\"][0]\n",
    "\n",
    "corrected_data = raw_data.iloc[row_index+2: row_index + 10, 1 : 13].reset_index(drop=True)\n",
    "print(corrected_data)"
   ]
  },
  {
   "cell_type": "code",
   "execution_count": 3,
   "metadata": {
    "vscode": {
     "languageId": "python"
    }
   },
   "outputs": [
    {
     "name": "stdout",
     "output_type": "stream",
     "text": [
      "       1      2      3      4      5\n",
      "0  1.422  1.420  1.459  0.595  0.601\n",
      "1  1.042  1.076  1.077  1.383  1.373\n",
      "2  0.778  0.801  0.800  1.720  1.705\n",
      "3  1.929  1.923  1.920  1.937  1.945\n",
      "4  2.137  2.139  2.148  2.143  2.144\n",
      "5  2.319  2.306  2.307  2.306  2.378\n",
      "6  2.489  2.512  2.499  2.495  2.462\n",
      "7  2.567  2.564  2.552  2.555  2.559\n",
      "<class 'numpy.float64'>\n"
     ]
    }
   ],
   "source": [
    "# hot fix to deal with the parser not being able to parse \"blank wells\".\n",
    "# remove at a later date\n",
    "\n",
    "calibrants = corrected_data.iloc[:,0:5]\n",
    "print(calibrants)\n",
    "print(type(calibrants.iloc[0,0]))"
   ]
  },
  {
   "cell_type": "code",
   "execution_count": 4,
   "metadata": {
    "vscode": {
     "languageId": "python"
    }
   },
   "outputs": [
    {
     "name": "stdout",
     "output_type": "stream",
     "text": [
      "       1      2      3      4      5\n",
      "0  0.778  0.801  0.800  0.595  0.601\n",
      "1  1.042  1.076  1.077  1.383  1.373\n",
      "2  1.422  1.420  1.459  1.720  1.705\n",
      "3  1.929  1.923  1.920  1.937  1.945\n",
      "4  2.137  2.139  2.148  2.143  2.144\n",
      "5  2.319  2.306  2.307  2.306  2.378\n",
      "6  2.489  2.512  2.499  2.495  2.462\n",
      "7  2.567  2.564  2.552  2.555  2.559\n"
     ]
    }
   ],
   "source": [
    "new_low = calibrants.iloc[0,0:3].copy()\n",
    "new_high = calibrants.iloc[2,0:3].copy()\n",
    "\n",
    "\n",
    "calibrants.iloc[0,0:3] = new_high\n",
    "calibrants.iloc[2,0:3] = new_low\n",
    "\n",
    "print(calibrants)"
   ]
  },
  {
   "cell_type": "code",
   "execution_count": 5,
   "metadata": {
    "vscode": {
     "languageId": "python"
    }
   },
   "outputs": [
    {
     "data": {
      "image/png": "[encoded data removed]",
      "text/plain": [
       "<Figure size 432x288 with 2 Axes>"
      ]
     },
     "metadata": {},
     "output_type": "display_data"
    }
   ],
   "source": [
    "# reshape\n",
    "\n",
    "calibrants_np = calibrants.to_numpy()\n",
    "\n",
    "replicates = 5\n",
    "\n",
    "# real concs in wells. Stocks in ug/ml diluted by 20x\n",
    "calibrant_range = [\"0\",\"500\",\"750\",\"1000\", \"1250\", \"1500\", \"1750\",\"2000\"]\n",
    "\n",
    "#calibrants_np_2d = np.reshape(calibrants_np, (int(len(calibrants_np)/replicates), replicates))\n",
    "\n",
    "import seaborn as sns\n",
    "\n",
    "sns.set()\n",
    "ax1 = sns.heatmap(calibrants_np, annot=True, cmap=\"coolwarm\")\n",
    "ax1.set_ylabel(\"BSA ug/Ml\")\n",
    "ax1.set_title(\"Calibrant Raw Absorbances.\")\n",
    "ax1.set_xlabel(\"Replicate #\")\n",
    "plt.yticks(np.arange(8)+0.5,calibrant_range, rotation=0, fontsize=\"10\")\n",
    "\n",
    "plt.savefig(\"output/BSA_absorbances_heat.png\")\n",
    "\n",
    "plt.show()"
   ]
  },
  {
   "cell_type": "code",
   "execution_count": 6,
   "metadata": {
    "vscode": {
     "languageId": "python"
    }
   },
   "outputs": [
    {
     "data": {
      "image/png": "[encoded data removed]",
      "text/plain": [
       "<Figure size 432x288 with 1 Axes>"
      ]
     },
     "metadata": {},
     "output_type": "display_data"
    }
   ],
   "source": [
    "calibrants_df = pd.DataFrame(calibrants_np, columns=[\"Rep1\", \"Rep2\", \"Rep3\", \"Rep4\", \"Rep5\"], index=calibrant_range)\n",
    "\n",
    "calibrants_df[\"Mean\"] = calibrants_df.mean(axis=1)\n",
    "calibrants_df[\"SEM\"] = calibrants_df.iloc[:,:3].sem(axis=1)\n",
    "\n",
    "calibrants_df_avg = calibrants_df[[\"Mean\", \"SEM\"]]\n",
    "\n",
    "#plot \n",
    "\n",
    "x = calibrants_df_avg.index\n",
    "y = calibrants_df_avg['Mean']\n",
    "\n",
    "plt.scatter(x,y)\n",
    "plt.errorbar(x,y, yerr=calibrants_df_avg['SEM'], fmt=\"|\", color=\"r\")\n",
    "\n",
    "plt.title(\"Absorbance of BSA Standards\")\n",
    "plt.ylabel(\"Absorbance\")\n",
    "plt.xlabel(\"BSA ug/Ml\")\n",
    "plt.savefig(\"output/BSA_Standard_Absorbances_scatter.png\")\n",
    "plt.show()\n"
   ]
  },
  {
   "cell_type": "code",
   "execution_count": 7,
   "metadata": {
    "vscode": {
     "languageId": "python"
    }
   },
   "outputs": [
    {
     "name": "stdout",
     "output_type": "stream",
     "text": [
      "[0.0, 500.0, 750.0, 1000.0, 1250.0, 1500.0, 1750.0, 2000.0]\n",
      "coefficient of determination: 0.9683250252191316\n"
     ]
    },
    {
     "data": {
      "image/png": "[encoded data removed]",
      "text/plain": [
       "<Figure size 432x288 with 1 Axes>"
      ]
     },
     "metadata": {},
     "output_type": "display_data"
    }
   ],
   "source": [
    "\n",
    "# calibrant concs\n",
    "calibrant_range_numerical = [float(ele) for ele in calibrant_range]\n",
    "print(calibrant_range_numerical)\n",
    "\n",
    "# fit curves\n",
    "#function for looping?\n",
    "model = LinearRegression()\n",
    "# fitc data in to array and reverse the order\n",
    "x = np.array(calibrants_df_avg[\"Mean\"]).reshape(-1,1)\n",
    "\n",
    "# List of nM concs into array\n",
    "y = np.array(calibrant_range_numerical).reshape(-1,1)\n",
    "\n",
    "x = x.reshape(-1,1)\n",
    "\n",
    "# Fit\n",
    "model.fit(x,y)\n",
    "r_sq = model.score(x, y)\n",
    "print('coefficient of determination:', r_sq)\n",
    "\n",
    "#Plot\n",
    "plt.scatter(x, y, color='g')\n",
    "plt.plot(x, model.predict(x), color='k')\n",
    "\n",
    "textstr ='r²: ' +str(round(r_sq,2))\n",
    "plt.text(calibrants_df_avg[\"Mean\"].min(), calibrant_range_numerical[-1], textstr, color='r', fontsize=10)\n",
    "\n",
    "plt.title('Standard Curve')\n",
    "plt.xlabel('Arbitrary Absorbance Units')\n",
    "plt.ylabel('BSA μg/Ml')\n",
    "plt.savefig(\"output/BSA_Standard_Curve.png\")\n",
    "plt.show()\n",
    "\n",
    "\n"
   ]
  },
  {
   "cell_type": "code",
   "execution_count": 8,
   "metadata": {},
   "outputs": [
    {
     "data": {
      "text/html": [
       "<div>\n",
       "<style scoped>\n",
       "    .dataframe tbody tr th:only-of-type {\n",
       "        vertical-align: middle;\n",
       "    }\n",
       "\n",
       "    .dataframe tbody tr th {\n",
       "        vertical-align: top;\n",
       "    }\n",
       "\n",
       "    .dataframe thead th {\n",
       "        text-align: right;\n",
       "    }\n",
       "</style>\n",
       "<table border=\"1\" class=\"dataframe\">\n",
       "  <thead>\n",
       "    <tr style=\"text-align: right;\">\n",
       "      <th></th>\n",
       "      <th>7</th>\n",
       "      <th>8</th>\n",
       "      <th>9</th>\n",
       "    </tr>\n",
       "  </thead>\n",
       "  <tbody>\n",
       "    <tr>\n",
       "      <th>6</th>\n",
       "      <td>4.543</td>\n",
       "      <td>4.060</td>\n",
       "      <td>4.506</td>\n",
       "    </tr>\n",
       "    <tr>\n",
       "      <th>7</th>\n",
       "      <td>3.043</td>\n",
       "      <td>3.056</td>\n",
       "      <td>3.069</td>\n",
       "    </tr>\n",
       "    <tr>\n",
       "      <th>8</th>\n",
       "      <td>2.453</td>\n",
       "      <td>2.469</td>\n",
       "      <td>2.508</td>\n",
       "    </tr>\n",
       "    <tr>\n",
       "      <th>9</th>\n",
       "      <td>1.431</td>\n",
       "      <td>1.434</td>\n",
       "      <td>1.425</td>\n",
       "    </tr>\n",
       "  </tbody>\n",
       "</table>\n",
       "</div>"
      ],
      "text/plain": [
       "       7      8      9\n",
       "6  4.543  4.060  4.506\n",
       "7  3.043  3.056  3.069\n",
       "8  2.453  2.469  2.508\n",
       "9  1.431  1.434  1.425"
      ]
     },
     "execution_count": 8,
     "metadata": {},
     "output_type": "execute_result"
    }
   ],
   "source": [
    "sample_data = pd.read_csv(\"Preconc_230308_OT2_BRADFORD_samples.csv\", sep=',', header=None)\n",
    "replicates = 3\n",
    "\n",
    "sample_data = sample_data.iloc[6:,7:10]\n",
    "\n",
    "sample_list = [\"1x\",\"5x\",\"10x\", \"20x\"]\n",
    "\n",
    "sample_data"
   ]
  },
  {
   "cell_type": "code",
   "execution_count": 9,
   "metadata": {
    "vscode": {
     "languageId": "python"
    }
   },
   "outputs": [
    {
     "name": "stdout",
     "output_type": "stream",
     "text": [
      "      Rep1   Rep2   Rep3\n",
      "1x   4.543  4.060  4.506\n",
      "5x   3.043  3.056  3.069\n",
      "10x  2.453  2.469  2.508\n",
      "20x  1.431  1.434  1.425\n"
     ]
    },
    {
     "data": {
      "image/png": "[encoded data removed]",
      "text/plain": [
       "<Figure size 432x288 with 2 Axes>"
      ]
     },
     "metadata": {},
     "output_type": "display_data"
    }
   ],
   "source": [
    "sample_data.columns = [\"Rep1\", \"Rep2\", \"Rep3\"]\n",
    "sample_data.index = sample_list\n",
    "\n",
    "print(sample_data)\n",
    "\n",
    "sns.set()\n",
    "\n",
    "\n",
    "sns.heatmap(sample_data, annot=True, cmap=\"coolwarm\")\n",
    "\n",
    "\n",
    "\n",
    "plt.ylabel(\"Dilution Factor\")\n",
    "plt.title(\"Absorbances of Diluted samples\")\n",
    "plt.xlabel(\"Replicate #\")\n",
    "plt.yticks(np.arange(sample_data.shape[0])+0.5, sample_list, rotation=0, fontsize=\"10\")\n",
    "plt.savefig(\"output/Sample_Absorbances_heat.png\")\n",
    "\n"
   ]
  },
  {
   "cell_type": "code",
   "execution_count": 10,
   "metadata": {
    "vscode": {
     "languageId": "python"
    }
   },
   "outputs": [
    {
     "data": {
      "image/png": "[encoded data removed]",
      "text/plain": [
       "<Figure size 432x288 with 1 Axes>"
      ]
     },
     "metadata": {},
     "output_type": "display_data"
    }
   ],
   "source": [
    "\n",
    "\n",
    "sample_data[\"Mean\"] = sample_data.mean(axis=1)\n",
    "sample_data[\"SEM\"] = sample_data.iloc[:,:3].sem(axis=1)\n",
    "\n",
    "\n",
    "samples_df_avg = sample_data[[\"Mean\", \"SEM\"]]\n",
    "\n",
    "ax3 = samples_df_avg.plot(kind=\"bar\", yerr=\"SEM\", legend=False)\n",
    "\n",
    "\n",
    "ax3.set_title(\"Mean Absorbances of Sample Dilutions\")\n",
    "ax3.set_ylabel(\"Absorbance\")\n",
    "ax3.set_xlabel(\"Dilution Factor\")\n",
    "plt.xticks(np.arange(samples_df_avg.shape[0]),sample_list, rotation=0, fontsize=\"10\")\n",
    "plt.savefig(\"output/Sample_Absorbances_Bar.png\")"
   ]
  },
  {
   "cell_type": "code",
   "execution_count": 11,
   "metadata": {
    "vscode": {
     "languageId": "python"
    }
   },
   "outputs": [
    {
     "name": "stdout",
     "output_type": "stream",
     "text": [
      "      Rep1   Rep2   Rep3      Mean       SEM\n",
      "1x   4.543  4.060  4.506  4.369667  0.155201\n",
      "5x   3.043  3.056  3.069  3.056000  0.007506\n",
      "10x  2.453  2.469  2.508  2.476667  0.016333\n",
      "20x  1.431  1.434  1.425  1.430000  0.002646\n"
     ]
    }
   ],
   "source": [
    "#### subset samples that don't fall in linear range\n",
    "acceptable_samples = sample_data\n",
    "\n",
    "\n",
    "#get the index again for the names\n",
    "acceptable_samples_list = acceptable_samples.index\n",
    "print(acceptable_samples)"
   ]
  },
  {
   "cell_type": "code",
   "execution_count": 12,
   "metadata": {
    "vscode": {
     "languageId": "python"
    }
   },
   "outputs": [
    {
     "name": "stdout",
     "output_type": "stream",
     "text": [
      "            Rep1         Rep2         Rep3\n",
      "1x   3762.534474  3281.703796  3725.700654\n",
      "5x   2269.271500  2282.213113  2295.154725\n",
      "10x  1681.921397  1697.849536  1736.674373\n",
      "20x   664.511558   667.498084   658.538506\n"
     ]
    }
   ],
   "source": [
    "# convert samples\n",
    "predicted_ug_per_ml = model.predict(np.array(acceptable_samples.iloc[:,:3]).reshape(-1,1))\n",
    "predicted_ug_per_ml = np.reshape(predicted_ug_per_ml,(int(len(predicted_ug_per_ml)/replicates), replicates))\n",
    "predicted_ug_per_ml = pd.DataFrame(predicted_ug_per_ml, columns=[\"Rep1\", \"Rep2\", \"Rep3\"], index = acceptable_samples_list)\n",
    "\n",
    "print(predicted_ug_per_ml)"
   ]
  },
  {
   "cell_type": "code",
   "execution_count": 13,
   "metadata": {
    "vscode": {
     "languageId": "python"
    }
   },
   "outputs": [
    {
     "name": "stdout",
     "output_type": "stream",
     "text": [
      "Raw dataset:\n",
      "            Rep1         Rep2         Rep3\n",
      "1x   3762.534474  3281.703796  3725.700654\n",
      "5x   2269.271500  2282.213113  2295.154725\n",
      "10x  1681.921397  1697.849536  1736.674373\n",
      "20x   664.511558   667.498084   658.538506\n",
      " \n",
      "Multiplying row 1x by dilution factor: 1\n",
      "Multiplying row 5x by dilution factor: 5\n",
      "Multiplying row 10x by dilution factor: 10\n",
      "Multiplying row 20x by dilution factor: 20\n",
      " \n",
      "dataset multipled by dilution factor\n",
      " \n",
      "             Rep1          Rep2          Rep3\n",
      "1x    3762.534474   3281.703796   3725.700654\n",
      "5x   11346.357501  11411.065564  11475.773626\n",
      "10x  16819.213975  16978.495358  17366.743731\n",
      "20x  13290.231167  13349.961686  13170.770129\n",
      " \n",
      "dataset in ug/ml\n",
      " \n",
      "            ug/ml   ug/ml SEM\n",
      "1x    3589.979641  154.504239\n",
      "5x   11411.065564   37.359217\n",
      "10x  17054.817688  162.599746\n",
      "20x  13270.320994   52.677366\n"
     ]
    }
   ],
   "source": [
    "#account for the dilutions\n",
    "numrows = predicted_ug_per_ml.shape[0]\n",
    "\n",
    "print(\"Raw dataset:\")\n",
    "print(predicted_ug_per_ml)\n",
    "print(\" \")\n",
    "\n",
    "for index, row in predicted_ug_per_ml.iterrows():\n",
    "    # get the dilution factor from the index\n",
    "    ind = str(index)\n",
    "    ind = ind[:-1]\n",
    "    ind = int(ind)\n",
    "\n",
    "    print(\"Multiplying row \" + str(index) +  \" by dilution factor: \"+ str(ind))\n",
    "    \n",
    "    predicted_ug_per_ml.loc[index, \"Rep1\"] = predicted_ug_per_ml.loc[index, \"Rep1\"]*ind\n",
    "    predicted_ug_per_ml.loc[index, \"Rep2\"] = predicted_ug_per_ml.loc[index, \"Rep2\"]*ind\n",
    "    predicted_ug_per_ml.loc[index, \"Rep3\"] = predicted_ug_per_ml.loc[index, \"Rep3\"]*ind\n",
    "\n",
    "# get list of row indexes\n",
    "\n",
    "print(\" \")\n",
    "print(\"dataset multipled by dilution factor\")\n",
    "print(\" \")\n",
    "\n",
    "\n",
    "print(predicted_ug_per_ml)\n",
    "\n",
    "# Use that to perform that calculations just on the right columns\n",
    "# recalculate mean and SEM\n",
    "\n",
    "predicted_ug_per_ml['ug/ml'] = predicted_ug_per_ml.loc[list(predicted_ug_per_ml.index),[\"Rep1\", \"Rep2\",\"Rep3\"]].mean(axis=1)\n",
    "predicted_ug_per_ml['ug/ml SEM'] = predicted_ug_per_ml.loc[list(predicted_ug_per_ml.index),[\"Rep1\", \"Rep2\",\"Rep3\"]].sem(axis=1)\n",
    "\n",
    "print(\" \")\n",
    "print(\"dataset in ug/ml\")\n",
    "print(\" \")\n",
    "\n",
    "print(predicted_ug_per_ml[['ug/ml','ug/ml SEM']])\n"
   ]
  },
  {
   "cell_type": "code",
   "execution_count": 14,
   "metadata": {
    "vscode": {
     "languageId": "python"
    }
   },
   "outputs": [
    {
     "name": "stdout",
     "output_type": "stream",
     "text": [
      "  index          Rep1          Rep2          Rep3         ug/ml   ug/ml SEM\n",
      "0    1x   3762.534474   3281.703796   3725.700654   3589.979641  154.504239\n",
      "1    5x  11346.357501  11411.065564  11475.773626  11411.065564   37.359217\n",
      "2   10x  16819.213975  16978.495358  17366.743731  17054.817688  162.599746\n",
      "3   20x  13290.231167  13349.961686  13170.770129  13270.320994   52.677366\n"
     ]
    }
   ],
   "source": [
    "\n",
    "#get index to use and names\n",
    "predicted_ug_per_ml = predicted_ug_per_ml.reset_index()\n",
    "#convert all to strings\n",
    "predicted_ug_per_ml['index'] = predicted_ug_per_ml['index'].astype(str)\n",
    "print(predicted_ug_per_ml)\n",
    "\n"
   ]
  },
  {
   "cell_type": "code",
   "execution_count": 15,
   "metadata": {
    "vscode": {
     "languageId": "python"
    }
   },
   "outputs": [
    {
     "name": "stdout",
     "output_type": "stream",
     "text": [
      "        Rep1       Rep2       Rep3 index\n",
      "0   3.762534   3.281704   3.725701    1x\n",
      "1  11.346358  11.411066  11.475774    5x\n",
      "2  16.819214  16.978495  17.366744   10x\n",
      "3  13.290231  13.349962  13.170770   20x\n"
     ]
    }
   ],
   "source": [
    "######################### convert ug/ml to mg/ml\n",
    "# grab the raw values\n",
    "predicted_mg_per_ml = predicted_ug_per_ml[['Rep1','Rep2','Rep3']]\n",
    "# convert\n",
    "predicted_mg_per_ml = predicted_mg_per_ml/1000\n",
    "# append index\n",
    "predicted_mg_per_ml['index'] = predicted_ug_per_ml['index']\n",
    "\n",
    "\n",
    "print(predicted_mg_per_ml)"
   ]
  },
  {
   "cell_type": "code",
   "execution_count": 16,
   "metadata": {
    "vscode": {
     "languageId": "python"
    }
   },
   "outputs": [
    {
     "name": "stdout",
     "output_type": "stream",
     "text": [
      "        Rep1       Rep2       Rep3 index      mg/ml  mg/ml SEM\n",
      "0   3.762534   3.281704   3.725701    1x   3.589980   0.154504\n",
      "1  11.346358  11.411066  11.475774    5x  11.411066   0.037359\n",
      "2  16.819214  16.978495  17.366744   10x  17.054818   0.162600\n",
      "3  13.290231  13.349962  13.170770   20x  13.270321   0.052677\n"
     ]
    }
   ],
   "source": [
    "####################### generate means and stats\n",
    "predicted_mg_per_ml['mg/ml'] = predicted_mg_per_ml.loc[list(predicted_mg_per_ml.index),[\"Rep1\", \"Rep2\",\"Rep3\"]].mean(axis=1)\n",
    "predicted_mg_per_ml['mg/ml SEM'] = predicted_mg_per_ml.loc[list(predicted_mg_per_ml.index),[\"Rep1\", \"Rep2\",\"Rep3\"]].sem(axis=1)\n",
    "\n",
    "print(predicted_mg_per_ml)"
   ]
  },
  {
   "cell_type": "code",
   "execution_count": 17,
   "metadata": {
    "vscode": {
     "languageId": "python"
    }
   },
   "outputs": [
    {
     "name": "stdout",
     "output_type": "stream",
     "text": [
      "       mg/ml  mg/ml SEM\n",
      "0   3.589980   0.154504\n",
      "1  11.411066   0.037359\n",
      "2  17.054818   0.162600\n",
      "3  13.270321   0.052677\n"
     ]
    },
    {
     "data": {
      "image/png": "[encoded data removed]",
      "text/plain": [
       "<Figure size 432x288 with 1 Axes>"
      ]
     },
     "metadata": {},
     "output_type": "display_data"
    }
   ],
   "source": [
    "\n",
    "\n",
    "samples_bar_av_df = predicted_mg_per_ml[[\"mg/ml\", \"mg/ml SEM\"]]\n",
    "print(samples_bar_av_df)\n",
    "\n",
    "ax4 = samples_bar_av_df.plot(kind=\"bar\", yerr=\"mg/ml SEM\", legend=False)\n",
    "ax4.set_title(\"Samples Mean Concentrations & SEMs\")\n",
    "ax4.set_ylabel(\"Concentration in Mg/Ml\")\n",
    "ax4.set_xlabel(\"Dilution Factor\")\n",
    "plt.xticks(np.arange(samples_bar_av_df.shape[0]),acceptable_samples_list, rotation=0, fontsize=\"10\")\n",
    "plt.savefig(\"output/Conc_bar.png\")\n",
    "\n",
    "\n"
   ]
  },
  {
   "cell_type": "code",
   "execution_count": 8,
   "metadata": {},
   "outputs": [
    {
     "data": {
      "text/html": [
       "<div>\n",
       "<style scoped>\n",
       "    .dataframe tbody tr th:only-of-type {\n",
       "        vertical-align: middle;\n",
       "    }\n",
       "\n",
       "    .dataframe tbody tr th {\n",
       "        vertical-align: top;\n",
       "    }\n",
       "\n",
       "    .dataframe thead th {\n",
       "        text-align: right;\n",
       "    }\n",
       "</style>\n",
       "<table border=\"1\" class=\"dataframe\">\n",
       "  <thead>\n",
       "    <tr style=\"text-align: right;\">\n",
       "      <th></th>\n",
       "      <th>7</th>\n",
       "      <th>8</th>\n",
       "      <th>9</th>\n",
       "    </tr>\n",
       "  </thead>\n",
       "  <tbody>\n",
       "    <tr>\n",
       "      <th>6</th>\n",
       "      <td>4.543</td>\n",
       "      <td>4.060</td>\n",
       "      <td>4.506</td>\n",
       "    </tr>\n",
       "    <tr>\n",
       "      <th>7</th>\n",
       "      <td>3.043</td>\n",
       "      <td>3.056</td>\n",
       "      <td>3.069</td>\n",
       "    </tr>\n",
       "    <tr>\n",
       "      <th>8</th>\n",
       "      <td>2.453</td>\n",
       "      <td>2.469</td>\n",
       "      <td>2.508</td>\n",
       "    </tr>\n",
       "    <tr>\n",
       "      <th>9</th>\n",
       "      <td>1.431</td>\n",
       "      <td>1.434</td>\n",
       "      <td>1.425</td>\n",
       "    </tr>\n",
       "  </tbody>\n",
       "</table>\n",
       "</div>"
      ],
      "text/plain": [
       "       7      8      9\n",
       "6  4.543  4.060  4.506\n",
       "7  3.043  3.056  3.069\n",
       "8  2.453  2.469  2.508\n",
       "9  1.431  1.434  1.425"
      ]
     },
     "execution_count": 8,
     "metadata": {},
     "output_type": "execute_result"
    }
   ],
   "source": [
    "sample_data = pd.read_csv(\"Preconc_230308_OT2_BRADFORD_samples.csv\", sep=',', header=None)\n",
    "replicates = 3\n",
    "\n",
    "sample_data = sample_data.iloc[6:,7:10]\n",
    "\n",
    "sample_list = [\"1x\",\"5x\",\"10x\", \"20x\"]\n",
    "replicate_list = [\"Rep1\", \"Rep2\", \"Rep3\"]\n",
    "\n",
    "\n",
    "def process_sample_data(sample_name, sample_data_df, dilution_list, replicate_list):\n",
    "    \n",
    "    ## label sample df with metadata\n",
    "    sample_data.columns = replicate_list\n",
    "    sample_data.index = dilution_list\n",
    "\n",
    "    \n",
    "    # heatmap of absorbances\n",
    "    sns.set()\n",
    "    sns.heatmap(sample_data, annot=True, cmap=\"coolwarm\")\n",
    "\n",
    "    plt.ylabel(\"Dilution Factor\")\n",
    "    plt.title(sample_name + \" : Absorbances of Diluted samples\")\n",
    "    plt.xlabel(\"Replicate #\")\n",
    "    plt.yticks(np.arange(sample_data.shape[0])+0.5, sample_list, rotation=0, fontsize=\"10\")\n",
    "    plt.savefig(\"output/\"+sample_name+\"_Sample_Absorbances_heat.png\")\n",
    "\n",
    "    \n",
    "    # generate the means\n",
    "    sample_data[\"Mean\"] = sample_data.mean(axis=1)\n",
    "    sample_data[\"SEM\"] = sample_data.iloc[:,:3].sem(axis=1)\n",
    "    samples_df_avg = sample_data[[\"Mean\", \"SEM\"]]\n",
    "    \n",
    "    \n",
    "    ax3 = samples_df_avg.plot(kind=\"bar\", yerr=\"SEM\", legend=False)\n",
    "    ax3.set_title(sample_name + \" : Mean Absorbances of Sample Dilutions\")\n",
    "    ax3.set_ylabel(\"Absorbance\")\n",
    "    ax3.set_xlabel(\"Dilution Factor\")\n",
    "    plt.xticks(np.arange(samples_df_avg.shape[0]),sample_list, rotation=0, fontsize=\"10\")\n",
    "    plt.savefig(\"output/\"+sample_name+\"_Sample_Absorbances_Bar.png\")\n",
    "\n",
    "\n",
    "\n",
    "    #### subset samples that don't fall in linear range\n",
    "    acceptable_samples = sample_data\n",
    "\n",
    "    #get the index again for the names\n",
    "    acceptable_samples_list = acceptable_samples.index\n",
    "\n",
    "    # convert samples\n",
    "    predicted_ug_per_ml = model.predict(np.array(acceptable_samples.iloc[:,:3]).reshape(-1,1))\n",
    "    predicted_ug_per_ml = np.reshape(predicted_ug_per_ml,(int(len(predicted_ug_per_ml)/replicates), replicates))\n",
    "    predicted_ug_per_ml = pd.DataFrame(predicted_ug_per_ml, columns=[\"Rep1\", \"Rep2\", \"Rep3\"], index = acceptable_samples_list)\n",
    "\n",
    "\n",
    "    #account for the dilutions\n",
    "    numrows = predicted_ug_per_ml.shape[0]\n",
    "\n",
    "    for index, row in predicted_ug_per_ml.iterrows():\n",
    "        # get the dilution factor from the index\n",
    "        ind = str(index)\n",
    "        ind = ind[:-1]\n",
    "        ind = int(ind)\n",
    "\n",
    "        predicted_ug_per_ml.loc[index, \"Rep1\"] = predicted_ug_per_ml.loc[index, \"Rep1\"]*ind\n",
    "        predicted_ug_per_ml.loc[index, \"Rep2\"] = predicted_ug_per_ml.loc[index, \"Rep2\"]*ind\n",
    "        predicted_ug_per_ml.loc[index, \"Rep3\"] = predicted_ug_per_ml.loc[index, \"Rep3\"]*ind\n",
    "\n",
    "\n",
    "    # Use that to perform that calculations just on the right columns\n",
    "    # recalculate mean and SEM\n",
    "\n",
    "    predicted_ug_per_ml['ug/ml'] = predicted_ug_per_ml.loc[list(predicted_ug_per_ml.index),[\"Rep1\", \"Rep2\",\"Rep3\"]].mean(axis=1)\n",
    "    predicted_ug_per_ml['ug/ml SEM'] = predicted_ug_per_ml.loc[list(predicted_ug_per_ml.index),[\"Rep1\", \"Rep2\",\"Rep3\"]].sem(axis=1)\n",
    "\n",
    "\n",
    "    #get index to use and names\n",
    "    predicted_ug_per_ml = predicted_ug_per_ml.reset_index()\n",
    "    #convert all to strings\n",
    "    predicted_ug_per_ml['index'] = predicted_ug_per_ml['index'].astype(str)\n",
    "\n",
    "    ######################### convert ug/ml to mg/ml\n",
    "    # grab the raw values\n",
    "    predicted_mg_per_ml = predicted_ug_per_ml[['Rep1','Rep2','Rep3']]\n",
    "    # convert\n",
    "    predicted_mg_per_ml = predicted_mg_per_ml/1000\n",
    "    # append index\n",
    "    predicted_mg_per_ml['index'] = predicted_ug_per_ml['index']\n",
    "\n",
    "\n",
    "    ####################### generate means and stats\n",
    "    predicted_mg_per_ml['mg/ml'] = predicted_mg_per_ml.loc[list(predicted_mg_per_ml.index),[\"Rep1\", \"Rep2\",\"Rep3\"]].mean(axis=1)\n",
    "    predicted_mg_per_ml['mg/ml SEM'] = predicted_mg_per_ml.loc[list(predicted_mg_per_ml.index),[\"Rep1\", \"Rep2\",\"Rep3\"]].sem(axis=1)\n",
    "\n",
    "\n",
    "    samples_bar_av_df = predicted_mg_per_ml[[\"mg/ml\", \"mg/ml SEM\"]]\n",
    "\n",
    "\n",
    "    ax4 = samples_bar_av_df.plot(kind=\"bar\", yerr=\"mg/ml SEM\", legend=False)\n",
    "    ax4.set_title(\"Samples Mean Concentrations & SEMs\")\n",
    "    ax4.set_ylabel(\"Concentration in Mg/Ml\")\n",
    "    ax4.set_xlabel(\"Dilution Factor\")\n",
    "    plt.xticks(np.arange(samples_bar_av_df.shape[0]),acceptable_samples_list, rotation=0, fontsize=\"10\")\n",
    "    plt.savefig(\"output/Conc_bar.png\")"
   ]
  },
  {
   "cell_type": "code",
   "execution_count": null,
   "metadata": {
    "vscode": {
     "languageId": "python"
    }
   },
   "outputs": [],
   "source": [
    "############### check is the SEM on the mean of means is too large.\n",
    "\n",
    "\n",
    "#grab all of the replicates\n",
    "checker_set_df = predicted_mg_per_ml[['Rep1', 'Rep2', 'Rep3']]\n",
    "\n",
    "# initalise an empty series\n",
    "checker_set_series = pd.Series(dtype='float64')\n",
    "\n",
    "# go through the replicates and put them in the series\n",
    "for name, values in checker_set_df.iteritems():\n",
    "    checker_set_series = checker_set_series.append(values)\n",
    "\n",
    "# reset the series\n",
    "checker_set_series = checker_set_series.reset_index(drop=True)\n",
    "print('')\n",
    "#print('Compiled Replicates')\n",
    "#print(checker_set_series)\n",
    "print('')\n",
    "\n",
    "# generate the mean and sem\n",
    "checker_mean, checker_sem = (checker_set_series.mean(),checker_set_series.sem())\n",
    "\n",
    "checker_mean_5_percent = checker_mean/20\n",
    "\n",
    "print('Mean of means: ')\n",
    "print(checker_mean)\n",
    "print(' ')\n",
    "print('SEM of means: ')\n",
    "print(checker_sem)\n",
    "print(' ')\n",
    "print('Is the SEM greater than 5% of the Mean?:')\n",
    "print(checker_sem > checker_mean_5_percent)"
   ]
  },
  {
   "cell_type": "code",
   "execution_count": null,
   "metadata": {
    "vscode": {
     "languageId": "python"
    }
   },
   "outputs": [],
   "source": [
    "############## Is the sem greater than 5% of the mean?\n",
    "# If so: check for outliers.\n",
    "if checker_sem > checker_mean_5_percent:\n",
    "    \n",
    "    ####################################################################################################################\n",
    "    ####################################################################################################################\n",
    "    ############### Start if Greater than BlOCK\n",
    "    \n",
    "    print('SEM is greater and outliers MIGHT have been identified')\n",
    "    \n",
    "    \n",
    "    #################### box plot to identify outlier\n",
    "    plt.boxplot(x=predicted_mg_per_ml['mg/ml'], vert=False)\n",
    "    plt.title(\"Box Plot of Mean Concentrations\")\n",
    "    plt.xlabel(\"Mg/Ml\")\n",
    "\n",
    "    plt.savefig(\"output/Box_plot.png\")\n",
    "    plt.show()\n",
    "    \n",
    "    \n",
    "    #########################################################\n",
    "    #calculate interquartile range of values in the 'points' column\n",
    "    q75, q25 = np.percentile(predicted_mg_per_ml['mg/ml'], [75 ,25])\n",
    "    \n",
    "    print(' ')\n",
    "    print('q25: '+str(q25))\n",
    "    print(' ')\n",
    "    print('Mean: '+str(checker_mean))\n",
    "    print(' ')\n",
    "    print('q75: '+str(q75))\n",
    "    print(' ')    \n",
    "        \n",
    "    ######### retain values that are within the interquartile range\n",
    "    acceptable_concs = predicted_mg_per_ml.loc[(predicted_mg_per_ml[\"mg/ml\"] >=q25) & (predicted_mg_per_ml[\"mg/ml\"] <=q75)]\n",
    "\n",
    "    print('The concentrations that are retained after outlier filter')\n",
    "    print(' ')\n",
    "    print(acceptable_concs)\n",
    "    print(' ')\n",
    "    \n",
    "\n",
    "    #########################################################\n",
    "    ####   plot a bar chart of the accepted concentrations\n",
    "    \n",
    "    barplot_df = acceptable_concs[['index','mg/ml','mg/ml SEM']]\n",
    "    ax4 = barplot_df.plot(kind=\"bar\", yerr=\"mg/ml SEM\", legend=False)\n",
    "    ax4.set_title(\"Samples Mean Concentrations & SEMs\")\n",
    "    ax4.set_ylabel(\"Concentration in Mg/Ml\")\n",
    "    ax4.set_xlabel(\"Dilution Factor\")\n",
    "    plt.xticks(np.arange(acceptable_concs.shape[0]),acceptable_concs['index'], rotation=0, fontsize=\"10\")\n",
    "    plt.savefig(\"output/Best_concs_bar.png\")\n",
    "    \n",
    "    #############################################################\n",
    "    ##### using the accepted concentrations to generate a consensus concentration and export it.\n",
    "\n",
    "    subsetted = acceptable_concs[['Rep1', 'Rep2', 'Rep3']]\n",
    "\n",
    "    compiled = pd.Series(dtype='float64')\n",
    "\n",
    "    for name, values in subsetted.iteritems():\n",
    "        compiled = compiled.append(values)\n",
    "\n",
    "    compiled = compiled.reset_index(drop=True)\n",
    "    print('')\n",
    "    print('Compiled Replicates')\n",
    "    print(compiled)\n",
    "    print('')\n",
    "    consensus_mean, consensus_sem = (compiled.mean(),compiled.sem())\n",
    "    print('Generated Consensus Concentration:')\n",
    "    print('consensus_mean: '+ str(consensus_mean))\n",
    "    print('consensus_sem: ' + str(consensus_sem))\n",
    "    consensus_num_samples = acceptable_concs.shape[0]\n",
    "    print('Generated from # dilutions: ' + str(consensus_num_samples))\n",
    "    \n",
    "    print(' ')\n",
    "    print('Saving to Consensus_concentration.csv ...')\n",
    "    consensus_printout = pd.DataFrame(data = [[consensus_mean, consensus_sem, consensus_num_samples]], columns=['Consensus_Mean','Consensus_Sem','Calculated_From_#_Dilutions'])\n",
    "    consensus_printout.to_csv('output/Consensus_concentration.csv')\n",
    "    \n",
    "    ############## END OF IF Greater than BLOCK\n",
    "    ###################################################################################################################################\n",
    "    ###################################################################################################################################\n",
    "\n",
    "else:\n",
    "    \n",
    "    ####################################################################################################################################\n",
    "    ####################################################################################################################################\n",
    "    ############# Start of IF not Greater BLOCK\n",
    "    \n",
    "    print('SEM is not greater and no outliers have been identified')\n",
    "    \n",
    "    subsetted = predicted_mg_per_ml[['Rep1', 'Rep2', 'Rep3']]\n",
    "\n",
    "    compiled = pd.Series(dtype='float64')\n",
    "\n",
    "    for name, values in subsetted.iteritems():\n",
    "        compiled = compiled.append(values)\n",
    "\n",
    "    compiled = compiled.reset_index(drop=True)\n",
    "    print('')\n",
    "    print('Compiled Replicates')\n",
    "    print(compiled)\n",
    "    print('')\n",
    "    consensus_mean, consensus_sem = (compiled.mean(),compiled.sem())\n",
    "    print('Generated Consensus Concentration:')\n",
    "    print('consensus_mean: '+ str(consensus_mean))\n",
    "    print('consensus_sem: ' + str(consensus_sem))\n",
    "    consensus_num_samples = predicted_mg_per_ml.shape[0]\n",
    "    print('Generated from # dilutions: ' + str(consensus_num_samples))\n",
    "    \n",
    "    print(' ')\n",
    "    print('Saving to Consensus_concentration.csv ...')\n",
    "    consensus_printout = pd.DataFrame(data = [[consensus_mean, consensus_sem, consensus_num_samples]], columns=['Consensus_Mean','Consensus_Sem','Calculated_From_#_Dilutions'])\n",
    "    consensus_printout.to_csv('Consensus_concentration.csv')\n",
    "\n",
    "\n",
    "    "
   ]
  },
  {
   "cell_type": "code",
   "execution_count": null,
   "metadata": {
    "vscode": {
     "languageId": "python"
    }
   },
   "outputs": [],
   "source": []
  },
  {
   "cell_type": "code",
   "execution_count": null,
   "metadata": {},
   "outputs": [],
   "source": []
  }
 ],
 "metadata": {
  "interpreter": {
   "hash": "4cd7ab41f5fca4b9b44701077e38c5ffd31fe66a6cab21e0214b68d958d0e462"
  },
  "kernelspec": {
   "display_name": "Python 3",
   "language": "python",
   "name": "python3"
  },
  "language_info": {
   "codemirror_mode": {
    "name": "ipython",
    "version": 3
   },
   "file_extension": ".py",
   "mimetype": "text/x-python",
   "name": "python",
   "nbconvert_exporter": "python",
   "pygments_lexer": "ipython3",
   "version": "3.8.5"
  }
 },
 "nbformat": 4,
 "nbformat_minor": 2
}
